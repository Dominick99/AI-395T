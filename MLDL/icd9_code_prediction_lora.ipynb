{
  "nbformat": 4,
  "nbformat_minor": 0,
  "metadata": {
    "colab": {
      "provenance": []
    },
    "kernelspec": {
      "name": "python3",
      "display_name": "Python 3"
    },
    "language_info": {
      "name": "python"
    },
    "widgets": {
      "application/vnd.jupyter.widget-state+json": {
        "5af1bc5002db46479675cf3f12758475": {
          "model_module": "@jupyter-widgets/controls",
          "model_name": "HBoxModel",
          "model_module_version": "1.5.0",
          "state": {
            "_dom_classes": [],
            "_model_module": "@jupyter-widgets/controls",
            "_model_module_version": "1.5.0",
            "_model_name": "HBoxModel",
            "_view_count": null,
            "_view_module": "@jupyter-widgets/controls",
            "_view_module_version": "1.5.0",
            "_view_name": "HBoxView",
            "box_style": "",
            "children": [
              "IPY_MODEL_1ef7e61bdcea4f7cbd57484b3e296116",
              "IPY_MODEL_812a3eb65bb4440eb61f92731517fe58",
              "IPY_MODEL_269e5ebd632346b5a87484f6a0fdd845"
            ],
            "layout": "IPY_MODEL_91dd9defa6104a468491087b85d01de1"
          }
        },
        "1ef7e61bdcea4f7cbd57484b3e296116": {
          "model_module": "@jupyter-widgets/controls",
          "model_name": "HTMLModel",
          "model_module_version": "1.5.0",
          "state": {
            "_dom_classes": [],
            "_model_module": "@jupyter-widgets/controls",
            "_model_module_version": "1.5.0",
            "_model_name": "HTMLModel",
            "_view_count": null,
            "_view_module": "@jupyter-widgets/controls",
            "_view_module_version": "1.5.0",
            "_view_name": "HTMLView",
            "description": "",
            "description_tooltip": null,
            "layout": "IPY_MODEL_a7d654a0b0234746a6eb05c6c1d1d920",
            "placeholder": "​",
            "style": "IPY_MODEL_8dce3e0c39ea47019cdb799f5dc6582b",
            "value": "config.json: 100%"
          }
        },
        "812a3eb65bb4440eb61f92731517fe58": {
          "model_module": "@jupyter-widgets/controls",
          "model_name": "FloatProgressModel",
          "model_module_version": "1.5.0",
          "state": {
            "_dom_classes": [],
            "_model_module": "@jupyter-widgets/controls",
            "_model_module_version": "1.5.0",
            "_model_name": "FloatProgressModel",
            "_view_count": null,
            "_view_module": "@jupyter-widgets/controls",
            "_view_module_version": "1.5.0",
            "_view_name": "ProgressView",
            "bar_style": "success",
            "description": "",
            "description_tooltip": null,
            "layout": "IPY_MODEL_fb061016b8f84fefbccc91468bc7acdb",
            "max": 795,
            "min": 0,
            "orientation": "horizontal",
            "style": "IPY_MODEL_849887cba455491784d71711974526a8",
            "value": 795
          }
        },
        "269e5ebd632346b5a87484f6a0fdd845": {
          "model_module": "@jupyter-widgets/controls",
          "model_name": "HTMLModel",
          "model_module_version": "1.5.0",
          "state": {
            "_dom_classes": [],
            "_model_module": "@jupyter-widgets/controls",
            "_model_module_version": "1.5.0",
            "_model_name": "HTMLModel",
            "_view_count": null,
            "_view_module": "@jupyter-widgets/controls",
            "_view_module_version": "1.5.0",
            "_view_name": "HTMLView",
            "description": "",
            "description_tooltip": null,
            "layout": "IPY_MODEL_d647a003b39948719e5f57dec34f1d73",
            "placeholder": "​",
            "style": "IPY_MODEL_12bf0006fabe4108ba879b7275949bab",
            "value": " 795/795 [00:00&lt;00:00, 90.7kB/s]"
          }
        },
        "91dd9defa6104a468491087b85d01de1": {
          "model_module": "@jupyter-widgets/base",
          "model_name": "LayoutModel",
          "model_module_version": "1.2.0",
          "state": {
            "_model_module": "@jupyter-widgets/base",
            "_model_module_version": "1.2.0",
            "_model_name": "LayoutModel",
            "_view_count": null,
            "_view_module": "@jupyter-widgets/base",
            "_view_module_version": "1.2.0",
            "_view_name": "LayoutView",
            "align_content": null,
            "align_items": null,
            "align_self": null,
            "border": null,
            "bottom": null,
            "display": null,
            "flex": null,
            "flex_flow": null,
            "grid_area": null,
            "grid_auto_columns": null,
            "grid_auto_flow": null,
            "grid_auto_rows": null,
            "grid_column": null,
            "grid_gap": null,
            "grid_row": null,
            "grid_template_areas": null,
            "grid_template_columns": null,
            "grid_template_rows": null,
            "height": null,
            "justify_content": null,
            "justify_items": null,
            "left": null,
            "margin": null,
            "max_height": null,
            "max_width": null,
            "min_height": null,
            "min_width": null,
            "object_fit": null,
            "object_position": null,
            "order": null,
            "overflow": null,
            "overflow_x": null,
            "overflow_y": null,
            "padding": null,
            "right": null,
            "top": null,
            "visibility": null,
            "width": null
          }
        },
        "a7d654a0b0234746a6eb05c6c1d1d920": {
          "model_module": "@jupyter-widgets/base",
          "model_name": "LayoutModel",
          "model_module_version": "1.2.0",
          "state": {
            "_model_module": "@jupyter-widgets/base",
            "_model_module_version": "1.2.0",
            "_model_name": "LayoutModel",
            "_view_count": null,
            "_view_module": "@jupyter-widgets/base",
            "_view_module_version": "1.2.0",
            "_view_name": "LayoutView",
            "align_content": null,
            "align_items": null,
            "align_self": null,
            "border": null,
            "bottom": null,
            "display": null,
            "flex": null,
            "flex_flow": null,
            "grid_area": null,
            "grid_auto_columns": null,
            "grid_auto_flow": null,
            "grid_auto_rows": null,
            "grid_column": null,
            "grid_gap": null,
            "grid_row": null,
            "grid_template_areas": null,
            "grid_template_columns": null,
            "grid_template_rows": null,
            "height": null,
            "justify_content": null,
            "justify_items": null,
            "left": null,
            "margin": null,
            "max_height": null,
            "max_width": null,
            "min_height": null,
            "min_width": null,
            "object_fit": null,
            "object_position": null,
            "order": null,
            "overflow": null,
            "overflow_x": null,
            "overflow_y": null,
            "padding": null,
            "right": null,
            "top": null,
            "visibility": null,
            "width": null
          }
        },
        "8dce3e0c39ea47019cdb799f5dc6582b": {
          "model_module": "@jupyter-widgets/controls",
          "model_name": "DescriptionStyleModel",
          "model_module_version": "1.5.0",
          "state": {
            "_model_module": "@jupyter-widgets/controls",
            "_model_module_version": "1.5.0",
            "_model_name": "DescriptionStyleModel",
            "_view_count": null,
            "_view_module": "@jupyter-widgets/base",
            "_view_module_version": "1.2.0",
            "_view_name": "StyleView",
            "description_width": ""
          }
        },
        "fb061016b8f84fefbccc91468bc7acdb": {
          "model_module": "@jupyter-widgets/base",
          "model_name": "LayoutModel",
          "model_module_version": "1.2.0",
          "state": {
            "_model_module": "@jupyter-widgets/base",
            "_model_module_version": "1.2.0",
            "_model_name": "LayoutModel",
            "_view_count": null,
            "_view_module": "@jupyter-widgets/base",
            "_view_module_version": "1.2.0",
            "_view_name": "LayoutView",
            "align_content": null,
            "align_items": null,
            "align_self": null,
            "border": null,
            "bottom": null,
            "display": null,
            "flex": null,
            "flex_flow": null,
            "grid_area": null,
            "grid_auto_columns": null,
            "grid_auto_flow": null,
            "grid_auto_rows": null,
            "grid_column": null,
            "grid_gap": null,
            "grid_row": null,
            "grid_template_areas": null,
            "grid_template_columns": null,
            "grid_template_rows": null,
            "height": null,
            "justify_content": null,
            "justify_items": null,
            "left": null,
            "margin": null,
            "max_height": null,
            "max_width": null,
            "min_height": null,
            "min_width": null,
            "object_fit": null,
            "object_position": null,
            "order": null,
            "overflow": null,
            "overflow_x": null,
            "overflow_y": null,
            "padding": null,
            "right": null,
            "top": null,
            "visibility": null,
            "width": null
          }
        },
        "849887cba455491784d71711974526a8": {
          "model_module": "@jupyter-widgets/controls",
          "model_name": "ProgressStyleModel",
          "model_module_version": "1.5.0",
          "state": {
            "_model_module": "@jupyter-widgets/controls",
            "_model_module_version": "1.5.0",
            "_model_name": "ProgressStyleModel",
            "_view_count": null,
            "_view_module": "@jupyter-widgets/base",
            "_view_module_version": "1.2.0",
            "_view_name": "StyleView",
            "bar_color": null,
            "description_width": ""
          }
        },
        "d647a003b39948719e5f57dec34f1d73": {
          "model_module": "@jupyter-widgets/base",
          "model_name": "LayoutModel",
          "model_module_version": "1.2.0",
          "state": {
            "_model_module": "@jupyter-widgets/base",
            "_model_module_version": "1.2.0",
            "_model_name": "LayoutModel",
            "_view_count": null,
            "_view_module": "@jupyter-widgets/base",
            "_view_module_version": "1.2.0",
            "_view_name": "LayoutView",
            "align_content": null,
            "align_items": null,
            "align_self": null,
            "border": null,
            "bottom": null,
            "display": null,
            "flex": null,
            "flex_flow": null,
            "grid_area": null,
            "grid_auto_columns": null,
            "grid_auto_flow": null,
            "grid_auto_rows": null,
            "grid_column": null,
            "grid_gap": null,
            "grid_row": null,
            "grid_template_areas": null,
            "grid_template_columns": null,
            "grid_template_rows": null,
            "height": null,
            "justify_content": null,
            "justify_items": null,
            "left": null,
            "margin": null,
            "max_height": null,
            "max_width": null,
            "min_height": null,
            "min_width": null,
            "object_fit": null,
            "object_position": null,
            "order": null,
            "overflow": null,
            "overflow_x": null,
            "overflow_y": null,
            "padding": null,
            "right": null,
            "top": null,
            "visibility": null,
            "width": null
          }
        },
        "12bf0006fabe4108ba879b7275949bab": {
          "model_module": "@jupyter-widgets/controls",
          "model_name": "DescriptionStyleModel",
          "model_module_version": "1.5.0",
          "state": {
            "_model_module": "@jupyter-widgets/controls",
            "_model_module_version": "1.5.0",
            "_model_name": "DescriptionStyleModel",
            "_view_count": null,
            "_view_module": "@jupyter-widgets/base",
            "_view_module_version": "1.2.0",
            "_view_name": "StyleView",
            "description_width": ""
          }
        },
        "3edd1b55804f47c89fa513c42eb46f1c": {
          "model_module": "@jupyter-widgets/controls",
          "model_name": "HBoxModel",
          "model_module_version": "1.5.0",
          "state": {
            "_dom_classes": [],
            "_model_module": "@jupyter-widgets/controls",
            "_model_module_version": "1.5.0",
            "_model_name": "HBoxModel",
            "_view_count": null,
            "_view_module": "@jupyter-widgets/controls",
            "_view_module_version": "1.5.0",
            "_view_name": "HBoxView",
            "box_style": "",
            "children": [
              "IPY_MODEL_ee00288ce2b347f8bc5e8241028d7d98",
              "IPY_MODEL_85dc57bc290e42da9cdd3e0dab72190e",
              "IPY_MODEL_9bb45835f97b4435b4579a014e32e795"
            ],
            "layout": "IPY_MODEL_cc76a0fbe2cb434c9ac8b0fe8e61b0da"
          }
        },
        "ee00288ce2b347f8bc5e8241028d7d98": {
          "model_module": "@jupyter-widgets/controls",
          "model_name": "HTMLModel",
          "model_module_version": "1.5.0",
          "state": {
            "_dom_classes": [],
            "_model_module": "@jupyter-widgets/controls",
            "_model_module_version": "1.5.0",
            "_model_name": "HTMLModel",
            "_view_count": null,
            "_view_module": "@jupyter-widgets/controls",
            "_view_module_version": "1.5.0",
            "_view_name": "HTMLView",
            "description": "",
            "description_tooltip": null,
            "layout": "IPY_MODEL_cae89903797a4d9ea0d80499d89685ef",
            "placeholder": "​",
            "style": "IPY_MODEL_f165852705174fa8a9fed76c86451c7a",
            "value": "pytorch_model.bin: 100%"
          }
        },
        "85dc57bc290e42da9cdd3e0dab72190e": {
          "model_module": "@jupyter-widgets/controls",
          "model_name": "FloatProgressModel",
          "model_module_version": "1.5.0",
          "state": {
            "_dom_classes": [],
            "_model_module": "@jupyter-widgets/controls",
            "_model_module_version": "1.5.0",
            "_model_name": "FloatProgressModel",
            "_view_count": null,
            "_view_module": "@jupyter-widgets/controls",
            "_view_module_version": "1.5.0",
            "_view_name": "ProgressView",
            "bar_style": "success",
            "description": "",
            "description_tooltip": null,
            "layout": "IPY_MODEL_c1558649c0ad44238ec446a190501c2e",
            "max": 263292011,
            "min": 0,
            "orientation": "horizontal",
            "style": "IPY_MODEL_0a7f73661783480b87ef62790b7480ce",
            "value": 263292011
          }
        },
        "9bb45835f97b4435b4579a014e32e795": {
          "model_module": "@jupyter-widgets/controls",
          "model_name": "HTMLModel",
          "model_module_version": "1.5.0",
          "state": {
            "_dom_classes": [],
            "_model_module": "@jupyter-widgets/controls",
            "_model_module_version": "1.5.0",
            "_model_name": "HTMLModel",
            "_view_count": null,
            "_view_module": "@jupyter-widgets/controls",
            "_view_module_version": "1.5.0",
            "_view_name": "HTMLView",
            "description": "",
            "description_tooltip": null,
            "layout": "IPY_MODEL_3d0ef0d997b5412098f6449192969f5e",
            "placeholder": "​",
            "style": "IPY_MODEL_d340072af0de4df49477f83b3c16885d",
            "value": " 263M/263M [00:11&lt;00:00, 23.0MB/s]"
          }
        },
        "cc76a0fbe2cb434c9ac8b0fe8e61b0da": {
          "model_module": "@jupyter-widgets/base",
          "model_name": "LayoutModel",
          "model_module_version": "1.2.0",
          "state": {
            "_model_module": "@jupyter-widgets/base",
            "_model_module_version": "1.2.0",
            "_model_name": "LayoutModel",
            "_view_count": null,
            "_view_module": "@jupyter-widgets/base",
            "_view_module_version": "1.2.0",
            "_view_name": "LayoutView",
            "align_content": null,
            "align_items": null,
            "align_self": null,
            "border": null,
            "bottom": null,
            "display": null,
            "flex": null,
            "flex_flow": null,
            "grid_area": null,
            "grid_auto_columns": null,
            "grid_auto_flow": null,
            "grid_auto_rows": null,
            "grid_column": null,
            "grid_gap": null,
            "grid_row": null,
            "grid_template_areas": null,
            "grid_template_columns": null,
            "grid_template_rows": null,
            "height": null,
            "justify_content": null,
            "justify_items": null,
            "left": null,
            "margin": null,
            "max_height": null,
            "max_width": null,
            "min_height": null,
            "min_width": null,
            "object_fit": null,
            "object_position": null,
            "order": null,
            "overflow": null,
            "overflow_x": null,
            "overflow_y": null,
            "padding": null,
            "right": null,
            "top": null,
            "visibility": null,
            "width": null
          }
        },
        "cae89903797a4d9ea0d80499d89685ef": {
          "model_module": "@jupyter-widgets/base",
          "model_name": "LayoutModel",
          "model_module_version": "1.2.0",
          "state": {
            "_model_module": "@jupyter-widgets/base",
            "_model_module_version": "1.2.0",
            "_model_name": "LayoutModel",
            "_view_count": null,
            "_view_module": "@jupyter-widgets/base",
            "_view_module_version": "1.2.0",
            "_view_name": "LayoutView",
            "align_content": null,
            "align_items": null,
            "align_self": null,
            "border": null,
            "bottom": null,
            "display": null,
            "flex": null,
            "flex_flow": null,
            "grid_area": null,
            "grid_auto_columns": null,
            "grid_auto_flow": null,
            "grid_auto_rows": null,
            "grid_column": null,
            "grid_gap": null,
            "grid_row": null,
            "grid_template_areas": null,
            "grid_template_columns": null,
            "grid_template_rows": null,
            "height": null,
            "justify_content": null,
            "justify_items": null,
            "left": null,
            "margin": null,
            "max_height": null,
            "max_width": null,
            "min_height": null,
            "min_width": null,
            "object_fit": null,
            "object_position": null,
            "order": null,
            "overflow": null,
            "overflow_x": null,
            "overflow_y": null,
            "padding": null,
            "right": null,
            "top": null,
            "visibility": null,
            "width": null
          }
        },
        "f165852705174fa8a9fed76c86451c7a": {
          "model_module": "@jupyter-widgets/controls",
          "model_name": "DescriptionStyleModel",
          "model_module_version": "1.5.0",
          "state": {
            "_model_module": "@jupyter-widgets/controls",
            "_model_module_version": "1.5.0",
            "_model_name": "DescriptionStyleModel",
            "_view_count": null,
            "_view_module": "@jupyter-widgets/base",
            "_view_module_version": "1.2.0",
            "_view_name": "StyleView",
            "description_width": ""
          }
        },
        "c1558649c0ad44238ec446a190501c2e": {
          "model_module": "@jupyter-widgets/base",
          "model_name": "LayoutModel",
          "model_module_version": "1.2.0",
          "state": {
            "_model_module": "@jupyter-widgets/base",
            "_model_module_version": "1.2.0",
            "_model_name": "LayoutModel",
            "_view_count": null,
            "_view_module": "@jupyter-widgets/base",
            "_view_module_version": "1.2.0",
            "_view_name": "LayoutView",
            "align_content": null,
            "align_items": null,
            "align_self": null,
            "border": null,
            "bottom": null,
            "display": null,
            "flex": null,
            "flex_flow": null,
            "grid_area": null,
            "grid_auto_columns": null,
            "grid_auto_flow": null,
            "grid_auto_rows": null,
            "grid_column": null,
            "grid_gap": null,
            "grid_row": null,
            "grid_template_areas": null,
            "grid_template_columns": null,
            "grid_template_rows": null,
            "height": null,
            "justify_content": null,
            "justify_items": null,
            "left": null,
            "margin": null,
            "max_height": null,
            "max_width": null,
            "min_height": null,
            "min_width": null,
            "object_fit": null,
            "object_position": null,
            "order": null,
            "overflow": null,
            "overflow_x": null,
            "overflow_y": null,
            "padding": null,
            "right": null,
            "top": null,
            "visibility": null,
            "width": null
          }
        },
        "0a7f73661783480b87ef62790b7480ce": {
          "model_module": "@jupyter-widgets/controls",
          "model_name": "ProgressStyleModel",
          "model_module_version": "1.5.0",
          "state": {
            "_model_module": "@jupyter-widgets/controls",
            "_model_module_version": "1.5.0",
            "_model_name": "ProgressStyleModel",
            "_view_count": null,
            "_view_module": "@jupyter-widgets/base",
            "_view_module_version": "1.2.0",
            "_view_name": "StyleView",
            "bar_color": null,
            "description_width": ""
          }
        },
        "3d0ef0d997b5412098f6449192969f5e": {
          "model_module": "@jupyter-widgets/base",
          "model_name": "LayoutModel",
          "model_module_version": "1.2.0",
          "state": {
            "_model_module": "@jupyter-widgets/base",
            "_model_module_version": "1.2.0",
            "_model_name": "LayoutModel",
            "_view_count": null,
            "_view_module": "@jupyter-widgets/base",
            "_view_module_version": "1.2.0",
            "_view_name": "LayoutView",
            "align_content": null,
            "align_items": null,
            "align_self": null,
            "border": null,
            "bottom": null,
            "display": null,
            "flex": null,
            "flex_flow": null,
            "grid_area": null,
            "grid_auto_columns": null,
            "grid_auto_flow": null,
            "grid_auto_rows": null,
            "grid_column": null,
            "grid_gap": null,
            "grid_row": null,
            "grid_template_areas": null,
            "grid_template_columns": null,
            "grid_template_rows": null,
            "height": null,
            "justify_content": null,
            "justify_items": null,
            "left": null,
            "margin": null,
            "max_height": null,
            "max_width": null,
            "min_height": null,
            "min_width": null,
            "object_fit": null,
            "object_position": null,
            "order": null,
            "overflow": null,
            "overflow_x": null,
            "overflow_y": null,
            "padding": null,
            "right": null,
            "top": null,
            "visibility": null,
            "width": null
          }
        },
        "d340072af0de4df49477f83b3c16885d": {
          "model_module": "@jupyter-widgets/controls",
          "model_name": "DescriptionStyleModel",
          "model_module_version": "1.5.0",
          "state": {
            "_model_module": "@jupyter-widgets/controls",
            "_model_module_version": "1.5.0",
            "_model_name": "DescriptionStyleModel",
            "_view_count": null,
            "_view_module": "@jupyter-widgets/base",
            "_view_module_version": "1.2.0",
            "_view_name": "StyleView",
            "description_width": ""
          }
        },
        "8c8e046287e7456cbe7003340bfd744b": {
          "model_module": "@jupyter-widgets/controls",
          "model_name": "HBoxModel",
          "model_module_version": "1.5.0",
          "state": {
            "_dom_classes": [],
            "_model_module": "@jupyter-widgets/controls",
            "_model_module_version": "1.5.0",
            "_model_name": "HBoxModel",
            "_view_count": null,
            "_view_module": "@jupyter-widgets/controls",
            "_view_module_version": "1.5.0",
            "_view_name": "HBoxView",
            "box_style": "",
            "children": [
              "IPY_MODEL_03b01b82407749ffb7384d058b7650a3",
              "IPY_MODEL_96b8a301c8d84093ae7bb029a45ba9e0",
              "IPY_MODEL_c162136fcd564bc0accc2bc8bb7ea46a"
            ],
            "layout": "IPY_MODEL_1b4948fbb2b54e29be46450830bd3f77"
          }
        },
        "03b01b82407749ffb7384d058b7650a3": {
          "model_module": "@jupyter-widgets/controls",
          "model_name": "HTMLModel",
          "model_module_version": "1.5.0",
          "state": {
            "_dom_classes": [],
            "_model_module": "@jupyter-widgets/controls",
            "_model_module_version": "1.5.0",
            "_model_name": "HTMLModel",
            "_view_count": null,
            "_view_module": "@jupyter-widgets/controls",
            "_view_module_version": "1.5.0",
            "_view_name": "HTMLView",
            "description": "",
            "description_tooltip": null,
            "layout": "IPY_MODEL_9925bd22b7b5448ea245446ba563d96c",
            "placeholder": "​",
            "style": "IPY_MODEL_ab9637bef2ee4bd3ac13dc955945f253",
            "value": "config.json: 100%"
          }
        },
        "96b8a301c8d84093ae7bb029a45ba9e0": {
          "model_module": "@jupyter-widgets/controls",
          "model_name": "FloatProgressModel",
          "model_module_version": "1.5.0",
          "state": {
            "_dom_classes": [],
            "_model_module": "@jupyter-widgets/controls",
            "_model_module_version": "1.5.0",
            "_model_name": "FloatProgressModel",
            "_view_count": null,
            "_view_module": "@jupyter-widgets/controls",
            "_view_module_version": "1.5.0",
            "_view_name": "ProgressView",
            "bar_style": "success",
            "description": "",
            "description_tooltip": null,
            "layout": "IPY_MODEL_61a06f010fc14ab2ab2721fc05b2d8a8",
            "max": 795,
            "min": 0,
            "orientation": "horizontal",
            "style": "IPY_MODEL_c3aca07759324112a205113e1fee4eb8",
            "value": 795
          }
        },
        "c162136fcd564bc0accc2bc8bb7ea46a": {
          "model_module": "@jupyter-widgets/controls",
          "model_name": "HTMLModel",
          "model_module_version": "1.5.0",
          "state": {
            "_dom_classes": [],
            "_model_module": "@jupyter-widgets/controls",
            "_model_module_version": "1.5.0",
            "_model_name": "HTMLModel",
            "_view_count": null,
            "_view_module": "@jupyter-widgets/controls",
            "_view_module_version": "1.5.0",
            "_view_name": "HTMLView",
            "description": "",
            "description_tooltip": null,
            "layout": "IPY_MODEL_dce09d84debf4f7f972abfdc31086f60",
            "placeholder": "​",
            "style": "IPY_MODEL_da08356383c34555bf1978263ad74a39",
            "value": " 795/795 [00:00&lt;00:00, 93.1kB/s]"
          }
        },
        "1b4948fbb2b54e29be46450830bd3f77": {
          "model_module": "@jupyter-widgets/base",
          "model_name": "LayoutModel",
          "model_module_version": "1.2.0",
          "state": {
            "_model_module": "@jupyter-widgets/base",
            "_model_module_version": "1.2.0",
            "_model_name": "LayoutModel",
            "_view_count": null,
            "_view_module": "@jupyter-widgets/base",
            "_view_module_version": "1.2.0",
            "_view_name": "LayoutView",
            "align_content": null,
            "align_items": null,
            "align_self": null,
            "border": null,
            "bottom": null,
            "display": null,
            "flex": null,
            "flex_flow": null,
            "grid_area": null,
            "grid_auto_columns": null,
            "grid_auto_flow": null,
            "grid_auto_rows": null,
            "grid_column": null,
            "grid_gap": null,
            "grid_row": null,
            "grid_template_areas": null,
            "grid_template_columns": null,
            "grid_template_rows": null,
            "height": null,
            "justify_content": null,
            "justify_items": null,
            "left": null,
            "margin": null,
            "max_height": null,
            "max_width": null,
            "min_height": null,
            "min_width": null,
            "object_fit": null,
            "object_position": null,
            "order": null,
            "overflow": null,
            "overflow_x": null,
            "overflow_y": null,
            "padding": null,
            "right": null,
            "top": null,
            "visibility": null,
            "width": null
          }
        },
        "9925bd22b7b5448ea245446ba563d96c": {
          "model_module": "@jupyter-widgets/base",
          "model_name": "LayoutModel",
          "model_module_version": "1.2.0",
          "state": {
            "_model_module": "@jupyter-widgets/base",
            "_model_module_version": "1.2.0",
            "_model_name": "LayoutModel",
            "_view_count": null,
            "_view_module": "@jupyter-widgets/base",
            "_view_module_version": "1.2.0",
            "_view_name": "LayoutView",
            "align_content": null,
            "align_items": null,
            "align_self": null,
            "border": null,
            "bottom": null,
            "display": null,
            "flex": null,
            "flex_flow": null,
            "grid_area": null,
            "grid_auto_columns": null,
            "grid_auto_flow": null,
            "grid_auto_rows": null,
            "grid_column": null,
            "grid_gap": null,
            "grid_row": null,
            "grid_template_areas": null,
            "grid_template_columns": null,
            "grid_template_rows": null,
            "height": null,
            "justify_content": null,
            "justify_items": null,
            "left": null,
            "margin": null,
            "max_height": null,
            "max_width": null,
            "min_height": null,
            "min_width": null,
            "object_fit": null,
            "object_position": null,
            "order": null,
            "overflow": null,
            "overflow_x": null,
            "overflow_y": null,
            "padding": null,
            "right": null,
            "top": null,
            "visibility": null,
            "width": null
          }
        },
        "ab9637bef2ee4bd3ac13dc955945f253": {
          "model_module": "@jupyter-widgets/controls",
          "model_name": "DescriptionStyleModel",
          "model_module_version": "1.5.0",
          "state": {
            "_model_module": "@jupyter-widgets/controls",
            "_model_module_version": "1.5.0",
            "_model_name": "DescriptionStyleModel",
            "_view_count": null,
            "_view_module": "@jupyter-widgets/base",
            "_view_module_version": "1.2.0",
            "_view_name": "StyleView",
            "description_width": ""
          }
        },
        "61a06f010fc14ab2ab2721fc05b2d8a8": {
          "model_module": "@jupyter-widgets/base",
          "model_name": "LayoutModel",
          "model_module_version": "1.2.0",
          "state": {
            "_model_module": "@jupyter-widgets/base",
            "_model_module_version": "1.2.0",
            "_model_name": "LayoutModel",
            "_view_count": null,
            "_view_module": "@jupyter-widgets/base",
            "_view_module_version": "1.2.0",
            "_view_name": "LayoutView",
            "align_content": null,
            "align_items": null,
            "align_self": null,
            "border": null,
            "bottom": null,
            "display": null,
            "flex": null,
            "flex_flow": null,
            "grid_area": null,
            "grid_auto_columns": null,
            "grid_auto_flow": null,
            "grid_auto_rows": null,
            "grid_column": null,
            "grid_gap": null,
            "grid_row": null,
            "grid_template_areas": null,
            "grid_template_columns": null,
            "grid_template_rows": null,
            "height": null,
            "justify_content": null,
            "justify_items": null,
            "left": null,
            "margin": null,
            "max_height": null,
            "max_width": null,
            "min_height": null,
            "min_width": null,
            "object_fit": null,
            "object_position": null,
            "order": null,
            "overflow": null,
            "overflow_x": null,
            "overflow_y": null,
            "padding": null,
            "right": null,
            "top": null,
            "visibility": null,
            "width": null
          }
        },
        "c3aca07759324112a205113e1fee4eb8": {
          "model_module": "@jupyter-widgets/controls",
          "model_name": "ProgressStyleModel",
          "model_module_version": "1.5.0",
          "state": {
            "_model_module": "@jupyter-widgets/controls",
            "_model_module_version": "1.5.0",
            "_model_name": "ProgressStyleModel",
            "_view_count": null,
            "_view_module": "@jupyter-widgets/base",
            "_view_module_version": "1.2.0",
            "_view_name": "StyleView",
            "bar_color": null,
            "description_width": ""
          }
        },
        "dce09d84debf4f7f972abfdc31086f60": {
          "model_module": "@jupyter-widgets/base",
          "model_name": "LayoutModel",
          "model_module_version": "1.2.0",
          "state": {
            "_model_module": "@jupyter-widgets/base",
            "_model_module_version": "1.2.0",
            "_model_name": "LayoutModel",
            "_view_count": null,
            "_view_module": "@jupyter-widgets/base",
            "_view_module_version": "1.2.0",
            "_view_name": "LayoutView",
            "align_content": null,
            "align_items": null,
            "align_self": null,
            "border": null,
            "bottom": null,
            "display": null,
            "flex": null,
            "flex_flow": null,
            "grid_area": null,
            "grid_auto_columns": null,
            "grid_auto_flow": null,
            "grid_auto_rows": null,
            "grid_column": null,
            "grid_gap": null,
            "grid_row": null,
            "grid_template_areas": null,
            "grid_template_columns": null,
            "grid_template_rows": null,
            "height": null,
            "justify_content": null,
            "justify_items": null,
            "left": null,
            "margin": null,
            "max_height": null,
            "max_width": null,
            "min_height": null,
            "min_width": null,
            "object_fit": null,
            "object_position": null,
            "order": null,
            "overflow": null,
            "overflow_x": null,
            "overflow_y": null,
            "padding": null,
            "right": null,
            "top": null,
            "visibility": null,
            "width": null
          }
        },
        "da08356383c34555bf1978263ad74a39": {
          "model_module": "@jupyter-widgets/controls",
          "model_name": "DescriptionStyleModel",
          "model_module_version": "1.5.0",
          "state": {
            "_model_module": "@jupyter-widgets/controls",
            "_model_module_version": "1.5.0",
            "_model_name": "DescriptionStyleModel",
            "_view_count": null,
            "_view_module": "@jupyter-widgets/base",
            "_view_module_version": "1.2.0",
            "_view_name": "StyleView",
            "description_width": ""
          }
        },
        "0bf534ab66974d1ba8ed9590c8dedbb3": {
          "model_module": "@jupyter-widgets/controls",
          "model_name": "HBoxModel",
          "model_module_version": "1.5.0",
          "state": {
            "_dom_classes": [],
            "_model_module": "@jupyter-widgets/controls",
            "_model_module_version": "1.5.0",
            "_model_name": "HBoxModel",
            "_view_count": null,
            "_view_module": "@jupyter-widgets/controls",
            "_view_module_version": "1.5.0",
            "_view_name": "HBoxView",
            "box_style": "",
            "children": [
              "IPY_MODEL_4e43116242b34966b206a26179d0dcc1",
              "IPY_MODEL_99aa8ed1023f4d67a1933b8cc8329c8f",
              "IPY_MODEL_40a23c87c7e146bc8f4e90cfb8cc3397"
            ],
            "layout": "IPY_MODEL_08bce38d4a51455d88ab57a8931203b1"
          }
        },
        "4e43116242b34966b206a26179d0dcc1": {
          "model_module": "@jupyter-widgets/controls",
          "model_name": "HTMLModel",
          "model_module_version": "1.5.0",
          "state": {
            "_dom_classes": [],
            "_model_module": "@jupyter-widgets/controls",
            "_model_module_version": "1.5.0",
            "_model_name": "HTMLModel",
            "_view_count": null,
            "_view_module": "@jupyter-widgets/controls",
            "_view_module_version": "1.5.0",
            "_view_name": "HTMLView",
            "description": "",
            "description_tooltip": null,
            "layout": "IPY_MODEL_5f008b71601b43fd99bb1c6980ffc19c",
            "placeholder": "​",
            "style": "IPY_MODEL_6e822164b36f4ceca82b2c16cffa0b77",
            "value": "pytorch_model.bin: 100%"
          }
        },
        "99aa8ed1023f4d67a1933b8cc8329c8f": {
          "model_module": "@jupyter-widgets/controls",
          "model_name": "FloatProgressModel",
          "model_module_version": "1.5.0",
          "state": {
            "_dom_classes": [],
            "_model_module": "@jupyter-widgets/controls",
            "_model_module_version": "1.5.0",
            "_model_name": "FloatProgressModel",
            "_view_count": null,
            "_view_module": "@jupyter-widgets/controls",
            "_view_module_version": "1.5.0",
            "_view_name": "ProgressView",
            "bar_style": "success",
            "description": "",
            "description_tooltip": null,
            "layout": "IPY_MODEL_703e68b858c14b34b8659a752d9eef12",
            "max": 263292011,
            "min": 0,
            "orientation": "horizontal",
            "style": "IPY_MODEL_af0401137bc04a558175fb6a5cfc20a1",
            "value": 263292011
          }
        },
        "40a23c87c7e146bc8f4e90cfb8cc3397": {
          "model_module": "@jupyter-widgets/controls",
          "model_name": "HTMLModel",
          "model_module_version": "1.5.0",
          "state": {
            "_dom_classes": [],
            "_model_module": "@jupyter-widgets/controls",
            "_model_module_version": "1.5.0",
            "_model_name": "HTMLModel",
            "_view_count": null,
            "_view_module": "@jupyter-widgets/controls",
            "_view_module_version": "1.5.0",
            "_view_name": "HTMLView",
            "description": "",
            "description_tooltip": null,
            "layout": "IPY_MODEL_3862b44edf314d99bbdd460b7f0152df",
            "placeholder": "​",
            "style": "IPY_MODEL_4d9ce56308ab4e0a9389b27da7f52078",
            "value": " 263M/263M [00:01&lt;00:00, 268MB/s]"
          }
        },
        "08bce38d4a51455d88ab57a8931203b1": {
          "model_module": "@jupyter-widgets/base",
          "model_name": "LayoutModel",
          "model_module_version": "1.2.0",
          "state": {
            "_model_module": "@jupyter-widgets/base",
            "_model_module_version": "1.2.0",
            "_model_name": "LayoutModel",
            "_view_count": null,
            "_view_module": "@jupyter-widgets/base",
            "_view_module_version": "1.2.0",
            "_view_name": "LayoutView",
            "align_content": null,
            "align_items": null,
            "align_self": null,
            "border": null,
            "bottom": null,
            "display": null,
            "flex": null,
            "flex_flow": null,
            "grid_area": null,
            "grid_auto_columns": null,
            "grid_auto_flow": null,
            "grid_auto_rows": null,
            "grid_column": null,
            "grid_gap": null,
            "grid_row": null,
            "grid_template_areas": null,
            "grid_template_columns": null,
            "grid_template_rows": null,
            "height": null,
            "justify_content": null,
            "justify_items": null,
            "left": null,
            "margin": null,
            "max_height": null,
            "max_width": null,
            "min_height": null,
            "min_width": null,
            "object_fit": null,
            "object_position": null,
            "order": null,
            "overflow": null,
            "overflow_x": null,
            "overflow_y": null,
            "padding": null,
            "right": null,
            "top": null,
            "visibility": null,
            "width": null
          }
        },
        "5f008b71601b43fd99bb1c6980ffc19c": {
          "model_module": "@jupyter-widgets/base",
          "model_name": "LayoutModel",
          "model_module_version": "1.2.0",
          "state": {
            "_model_module": "@jupyter-widgets/base",
            "_model_module_version": "1.2.0",
            "_model_name": "LayoutModel",
            "_view_count": null,
            "_view_module": "@jupyter-widgets/base",
            "_view_module_version": "1.2.0",
            "_view_name": "LayoutView",
            "align_content": null,
            "align_items": null,
            "align_self": null,
            "border": null,
            "bottom": null,
            "display": null,
            "flex": null,
            "flex_flow": null,
            "grid_area": null,
            "grid_auto_columns": null,
            "grid_auto_flow": null,
            "grid_auto_rows": null,
            "grid_column": null,
            "grid_gap": null,
            "grid_row": null,
            "grid_template_areas": null,
            "grid_template_columns": null,
            "grid_template_rows": null,
            "height": null,
            "justify_content": null,
            "justify_items": null,
            "left": null,
            "margin": null,
            "max_height": null,
            "max_width": null,
            "min_height": null,
            "min_width": null,
            "object_fit": null,
            "object_position": null,
            "order": null,
            "overflow": null,
            "overflow_x": null,
            "overflow_y": null,
            "padding": null,
            "right": null,
            "top": null,
            "visibility": null,
            "width": null
          }
        },
        "6e822164b36f4ceca82b2c16cffa0b77": {
          "model_module": "@jupyter-widgets/controls",
          "model_name": "DescriptionStyleModel",
          "model_module_version": "1.5.0",
          "state": {
            "_model_module": "@jupyter-widgets/controls",
            "_model_module_version": "1.5.0",
            "_model_name": "DescriptionStyleModel",
            "_view_count": null,
            "_view_module": "@jupyter-widgets/base",
            "_view_module_version": "1.2.0",
            "_view_name": "StyleView",
            "description_width": ""
          }
        },
        "703e68b858c14b34b8659a752d9eef12": {
          "model_module": "@jupyter-widgets/base",
          "model_name": "LayoutModel",
          "model_module_version": "1.2.0",
          "state": {
            "_model_module": "@jupyter-widgets/base",
            "_model_module_version": "1.2.0",
            "_model_name": "LayoutModel",
            "_view_count": null,
            "_view_module": "@jupyter-widgets/base",
            "_view_module_version": "1.2.0",
            "_view_name": "LayoutView",
            "align_content": null,
            "align_items": null,
            "align_self": null,
            "border": null,
            "bottom": null,
            "display": null,
            "flex": null,
            "flex_flow": null,
            "grid_area": null,
            "grid_auto_columns": null,
            "grid_auto_flow": null,
            "grid_auto_rows": null,
            "grid_column": null,
            "grid_gap": null,
            "grid_row": null,
            "grid_template_areas": null,
            "grid_template_columns": null,
            "grid_template_rows": null,
            "height": null,
            "justify_content": null,
            "justify_items": null,
            "left": null,
            "margin": null,
            "max_height": null,
            "max_width": null,
            "min_height": null,
            "min_width": null,
            "object_fit": null,
            "object_position": null,
            "order": null,
            "overflow": null,
            "overflow_x": null,
            "overflow_y": null,
            "padding": null,
            "right": null,
            "top": null,
            "visibility": null,
            "width": null
          }
        },
        "af0401137bc04a558175fb6a5cfc20a1": {
          "model_module": "@jupyter-widgets/controls",
          "model_name": "ProgressStyleModel",
          "model_module_version": "1.5.0",
          "state": {
            "_model_module": "@jupyter-widgets/controls",
            "_model_module_version": "1.5.0",
            "_model_name": "ProgressStyleModel",
            "_view_count": null,
            "_view_module": "@jupyter-widgets/base",
            "_view_module_version": "1.2.0",
            "_view_name": "StyleView",
            "bar_color": null,
            "description_width": ""
          }
        },
        "3862b44edf314d99bbdd460b7f0152df": {
          "model_module": "@jupyter-widgets/base",
          "model_name": "LayoutModel",
          "model_module_version": "1.2.0",
          "state": {
            "_model_module": "@jupyter-widgets/base",
            "_model_module_version": "1.2.0",
            "_model_name": "LayoutModel",
            "_view_count": null,
            "_view_module": "@jupyter-widgets/base",
            "_view_module_version": "1.2.0",
            "_view_name": "LayoutView",
            "align_content": null,
            "align_items": null,
            "align_self": null,
            "border": null,
            "bottom": null,
            "display": null,
            "flex": null,
            "flex_flow": null,
            "grid_area": null,
            "grid_auto_columns": null,
            "grid_auto_flow": null,
            "grid_auto_rows": null,
            "grid_column": null,
            "grid_gap": null,
            "grid_row": null,
            "grid_template_areas": null,
            "grid_template_columns": null,
            "grid_template_rows": null,
            "height": null,
            "justify_content": null,
            "justify_items": null,
            "left": null,
            "margin": null,
            "max_height": null,
            "max_width": null,
            "min_height": null,
            "min_width": null,
            "object_fit": null,
            "object_position": null,
            "order": null,
            "overflow": null,
            "overflow_x": null,
            "overflow_y": null,
            "padding": null,
            "right": null,
            "top": null,
            "visibility": null,
            "width": null
          }
        },
        "4d9ce56308ab4e0a9389b27da7f52078": {
          "model_module": "@jupyter-widgets/controls",
          "model_name": "DescriptionStyleModel",
          "model_module_version": "1.5.0",
          "state": {
            "_model_module": "@jupyter-widgets/controls",
            "_model_module_version": "1.5.0",
            "_model_name": "DescriptionStyleModel",
            "_view_count": null,
            "_view_module": "@jupyter-widgets/base",
            "_view_module_version": "1.2.0",
            "_view_name": "StyleView",
            "description_width": ""
          }
        }
      }
    }
  },
  "cells": [
    {
      "cell_type": "markdown",
      "source": [
        "### Processing and Filtering MIMIC-III Discharge Notes\n",
        "\n",
        "This code filters and processes discharge summaries from the MIMIC-III dataset. It removes newborn and incomplete records, keeps only the latest admission per patient, and combines notes by admission. It extracts only the sections typically available at admission (e.g., chief complaint, medical history) to avoid data leakage on the diagnoses.\n"
      ],
      "metadata": {
        "id": "sJZinqzR4Wfg"
      }
    },
    {
      "cell_type": "code",
      "source": [
        "import pandas as pd\n",
        "import re\n",
        "\n",
        "def filter_notes(notes_df: pd.DataFrame, admissions_df: pd.DataFrame, admission_text_only: bool = False) -> pd.DataFrame:\n",
        "    \"\"\"\n",
        "    Filter and clean MIMIC-III note data, retaining only the last admission per patient.\n",
        "\n",
        "    Parameters:\n",
        "      notes_df: DataFrame containing note data.\n",
        "      admissions_df: DataFrame containing admission data.\n",
        "      admission_text_only: If True, further extract only sections known at admission.\n",
        "\n",
        "    Returns:\n",
        "      A cleaned DataFrame with a consolidated TEXT field (or TEXT_ADMISSION if filtered),\n",
        "      with only the latest admission per patient.\n",
        "    \"\"\"\n",
        "    # Filter out newborn admissions.\n",
        "    adult_admissions = admissions_df[admissions_df.ADMISSION_TYPE != \"NEWBORN\"]\n",
        "    notes_df = notes_df[notes_df.HADM_ID.isin(adult_admissions.HADM_ID)]\n",
        "\n",
        "    # Drop rows without TEXT or HADM_ID.\n",
        "    notes_df = notes_df.dropna(subset=[\"TEXT\", \"HADM_ID\"])\n",
        "\n",
        "    # Keep only discharge summaries.\n",
        "    notes_df = notes_df[notes_df.CATEGORY == \"Discharge summary\"]\n",
        "\n",
        "    # Sort by CHARTDATE and remove duplicate TEXT entries (keep the latest).\n",
        "    notes_df = notes_df.sort_values(by=[\"CHARTDATE\"])\n",
        "    notes_df = notes_df.drop_duplicates(subset=[\"TEXT\"], keep=\"last\")\n",
        "\n",
        "    # Combine all texts for each HADM_ID.\n",
        "    combined_texts = notes_df.groupby(\"HADM_ID\")[\"TEXT\"].apply(lambda texts: \"\\n\\n\".join(texts)).reset_index()\n",
        "\n",
        "    # Get main report rows to retain metadata.\n",
        "    main_reports = notes_df[notes_df.DESCRIPTION == \"Report\"].copy()\n",
        "    main_reports = main_reports[[\"HADM_ID\", \"ROW_ID\", \"SUBJECT_ID\", \"CHARTDATE\"]]\n",
        "    main_reports = main_reports.drop_duplicates(subset=[\"HADM_ID\"], keep=\"last\")\n",
        "\n",
        "    # Merge the combined texts with metadata.\n",
        "    notes_df = pd.merge(combined_texts, main_reports, on=\"HADM_ID\", how=\"inner\")\n",
        "    notes_df[\"TEXT\"] = notes_df[\"TEXT\"].str.strip()\n",
        "\n",
        "    # Ensure we have all critical fields.\n",
        "    notes_df = notes_df.dropna(subset=[\"HADM_ID\", \"SUBJECT_ID\", \"TEXT\"])\n",
        "\n",
        "    # Retain only the last admission per patient.\n",
        "    notes_df = notes_df.sort_values(by=[\"SUBJECT_ID\", \"CHARTDATE\"])\n",
        "    notes_df = notes_df.drop_duplicates(subset=[\"SUBJECT_ID\"], keep=\"last\")\n",
        "\n",
        "    # Optionally filter text to admission-only sections.\n",
        "    if admission_text_only:\n",
        "        notes_df = filter_admission_text(notes_df)\n",
        "\n",
        "    return notes_df\n",
        "\n",
        "\n",
        "\n",
        "def filter_admission_text(notes_df: pd.DataFrame) -> pd.DataFrame:\n",
        "    \"\"\"\n",
        "    Extract and combine admission-related sections from the TEXT field.\n",
        "\n",
        "    The function extracts sections that are typically available at admission:\n",
        "      - CHIEF_COMPLAINT\n",
        "      - PRESENT_ILLNESS\n",
        "      - MEDICAL_HISTORY\n",
        "      - MEDICATIONS ON ADMISSION\n",
        "      - ALLERGIES\n",
        "      - FAMILY_HISTORY\n",
        "      - SOCIAL_HISTORY\n",
        "\n",
        "    It uses a regex pattern that (case-insensitively) captures the text following each section header,\n",
        "    up to the start of the next header (assumed to be a newline followed by an uppercase header) or the end-of-text.\n",
        "\n",
        "    Parameters:\n",
        "      notes_df: DataFrame containing a TEXT column.\n",
        "\n",
        "    Returns:\n",
        "      DataFrame with additional columns for each section and a new TEXT_ADMISSION column that\n",
        "      concatenates the extracted sections.\n",
        "    \"\"\"\n",
        "    # Define mapping of section keys to header strings.\n",
        "    admission_sections = {\n",
        "        \"CHIEF_COMPLAINT\": \"chief complaint:\",\n",
        "        \"PRESENT_ILLNESS\": \"present illness:\",\n",
        "        \"MEDICAL_HISTORY\": \"medical history:\",\n",
        "        \"MEDICATION_ADM\": \"medications on admission:\",\n",
        "        \"ALLERGIES\": \"allergies:\",\n",
        "        \"FAMILY_HISTORY\": \"family history:\",\n",
        "        \"SOCIAL_HISTORY\": \"social history:\"\n",
        "    }\n",
        "\n",
        "    # For each section, extract text using a regex pattern.\n",
        "    # The pattern looks for the header (case-insensitive) then lazily captures text until a newline\n",
        "    # followed by another header (starting with uppercase letters) or the end of the string.\n",
        "    for key, header in admission_sections.items():\n",
        "        # Escape header to avoid regex metacharacter issues.\n",
        "        regex_pattern = r'(?is){}(.*?)(?=\\n[A-Z][A-Z\\s]+?:|$)'.format(re.escape(header))\n",
        "        notes_df[key] = notes_df[\"TEXT\"].str.extract(regex_pattern, expand=False).fillna(\"\").str.strip()\n",
        "\n",
        "        # Optionally clear sections that start with unwanted tokens.\n",
        "        notes_df.loc[notes_df[key].str.startswith(\"[]\"), key] = \"\"\n",
        "\n",
        "    # Filter out notes that are missing at least one of the main admission sections.\n",
        "    notes_df = notes_df[\n",
        "        (notes_df[\"CHIEF_COMPLAINT\"] != \"\") |\n",
        "        (notes_df[\"PRESENT_ILLNESS\"] != \"\") |\n",
        "        (notes_df[\"MEDICAL_HISTORY\"] != \"\")\n",
        "    ]\n",
        "\n",
        "    # Combine the extracted sections into a new column.\n",
        "    notes_df[\"TEXT_ADMISSION\"] = (\n",
        "        \"CHIEF COMPLAINT: \" + notes_df[\"CHIEF_COMPLAINT\"].astype(str) + \"\\n\\n\" +\n",
        "        \"PRESENT ILLNESS: \" + notes_df[\"PRESENT_ILLNESS\"].astype(str) + \"\\n\\n\" +\n",
        "        \"MEDICAL HISTORY: \" + notes_df[\"MEDICAL_HISTORY\"].astype(str) + \"\\n\\n\" +\n",
        "        \"MEDICATION ON ADMISSION: \" + notes_df[\"MEDICATION_ADM\"].astype(str) + \"\\n\\n\" +\n",
        "        \"ALLERGIES: \" + notes_df[\"ALLERGIES\"].astype(str) + \"\\n\\n\" +\n",
        "        \"FAMILY HISTORY: \" + notes_df[\"FAMILY_HISTORY\"].astype(str) + \"\\n\\n\" +\n",
        "        \"SOCIAL HISTORY: \" + notes_df[\"SOCIAL_HISTORY\"].astype(str)\n",
        "    )\n",
        "\n",
        "    return notes_df\n"
      ],
      "metadata": {
        "id": "JTMqrMVtxXWr"
      },
      "execution_count": null,
      "outputs": []
    },
    {
      "cell_type": "code",
      "source": [
        "import pandas as pd\n",
        "\n",
        "notes_df = pd.read_csv('NOTEEVENTS.csv.gz', compression='gzip')\n",
        "admissions_df = pd.read_csv('ADMISSIONS.csv.gz', compression='gzip')\n",
        "\n",
        "cleaned_notes_admission = filter_notes(notes_df, admissions_df, admission_text_only=True)\n",
        "cleaned_notes_admission.head()"
      ],
      "metadata": {
        "id": "s7D4Lh15bjd3"
      },
      "execution_count": null,
      "outputs": []
    },
    {
      "cell_type": "markdown",
      "source": [
        "### Merging Diagnoses with Clinical Notes\n",
        "\n",
        "This code loads diagnosis data from MIMIC-III, groups ICD-9 codes by hospital admission, and merges them with the previously cleaned clinical notes. It keeps only records with associated diagnoses for further analysis.\n"
      ],
      "metadata": {
        "id": "bsfHws7Y2maK"
      }
    },
    {
      "cell_type": "code",
      "source": [
        "# Load the DIAGNOSES_ICD data\n",
        "diagnoses_df = pd.read_csv('DIAGNOSES_ICD.csv.gz', compression='gzip')\n",
        "\n",
        "# Group by HADM_ID and aggregate unique ICD9 codes into a list\n",
        "diagnoses_grouped = diagnoses_df.groupby('HADM_ID')['ICD9_CODE'] \\\n",
        "    .apply(lambda codes: list(codes.unique())) \\\n",
        "    .reset_index(name='DIAGNOSES')\n",
        "\n",
        "merged_df = pd.merge(cleaned_notes_admission, diagnoses_grouped, on='HADM_ID', how='left')\n",
        "\n",
        "merged_df = merged_df.dropna(subset=['DIAGNOSES'])\n",
        "\n",
        "merged_df.head()"
      ],
      "metadata": {
        "id": "D1f02NI6bma5"
      },
      "execution_count": null,
      "outputs": []
    },
    {
      "cell_type": "markdown",
      "source": [
        "### Creating Label Mappings for ICD-9 Codes\n",
        "\n",
        "This code generates a sorted list of unique ICD-9 codes and creates two dictionaries: one mapping each code to a unique integer ID (`label2id`), and another mapping IDs back to their corresponding codes (`id2label`).\n"
      ],
      "metadata": {
        "id": "wJfV7ln-2yQJ"
      }
    },
    {
      "cell_type": "code",
      "source": [
        "import pandas as pd\n",
        "\n",
        "# Load the DIAGNOSES_ICD data\n",
        "diagnoses_df = pd.read_csv('DIAGNOSES_ICD.csv.gz', compression='gzip')\n",
        "\n",
        "# Get sorted list of unique ICD9 codes\n",
        "unique_icd9_codes = sorted(diagnoses_df['ICD9_CODE'].dropna().unique())\n",
        "\n",
        "# Create mappings\n",
        "label2id = {code: idx for idx, code in enumerate(unique_icd9_codes)}\n",
        "id2label = {idx: code for code, idx in label2id.items()}\n",
        "\n",
        "print(label2id)\n",
        "print(id2label)"
      ],
      "metadata": {
        "id": "QuehI6tUbo45"
      },
      "execution_count": null,
      "outputs": []
    },
    {
      "cell_type": "markdown",
      "source": [
        "# Creating Label Mappings for ICD-9 Code Chapters\n",
        "\n",
        "This will be used for our other model with less labels."
      ],
      "metadata": {
        "id": "sRj8ALBFla3k"
      }
    },
    {
      "cell_type": "code",
      "source": [
        "# Mapping from chapter name to ID\n",
        "chaptertoid = {\n",
        "    \"Infectious and Parasitic Diseases\": 0,\n",
        "    \"Neoplasms\": 1,\n",
        "    \"Endocrine, Nutritional and Metabolic Diseases, and Immunity Disorders\": 2,\n",
        "    \"Diseases of the Blood and Blood-Forming Organs\": 3,\n",
        "    \"Mental Disorders\": 4,\n",
        "    \"Diseases of the Nervous System and Sense Organs\": 5,\n",
        "    \"Diseases of the Circulatory System\": 6,\n",
        "    \"Diseases of the Respiratory System\": 7,\n",
        "    \"Diseases of the Digestive System\": 8,\n",
        "    \"Diseases of the Genitourinary System\": 9,\n",
        "    \"Complications of Pregnancy, Childbirth, and the Puerperium\": 10,\n",
        "    \"Diseases of the Skin and Subcutaneous Tissue\": 11,\n",
        "    \"Diseases of the Musculoskeletal System and Connective Tissue\": 12,\n",
        "    \"Congenital Anomalies\": 13,\n",
        "    \"Certain Conditions Originating in the Perinatal Period\": 14,\n",
        "    \"Symptoms, Signs, and Ill-Defined Conditions\": 15,\n",
        "    \"Injury and Poisoning\": 16,\n",
        "    \"External Causes of Injury (E codes)\": 17,\n",
        "    \"Supplemental Classification (V codes)\": 18\n",
        "}\n",
        "\n",
        "# Reverse mapping from ID to chapter name\n",
        "idtochapter = {v: k for k, v in chaptertoid.items()}\n",
        "\n",
        "print(chaptertoid)\n",
        "print(idtochapter)"
      ],
      "metadata": {
        "id": "FGw2f_SHbsSy"
      },
      "execution_count": null,
      "outputs": []
    },
    {
      "cell_type": "markdown",
      "source": [
        "### Converting Diagnoses to Label Indices\n",
        "\n",
        "This code maps each list of ICD-9 codes in the dataset to their corresponding integer IDs using the `label2id` dictionary, and stores the result in a new `DIAGNOSES_INDICES` column.\n"
      ],
      "metadata": {
        "id": "PrbfZJ0x27kn"
      }
    },
    {
      "cell_type": "code",
      "source": [
        "# Create the DIAGNOSES_INDICES column using the label2id mapping\n",
        "merged_df['DIAGNOSES_INDICES'] = merged_df['DIAGNOSES'].apply(\n",
        "    lambda codes: [label2id[code] for code in codes if code in label2id]\n",
        ")\n"
      ],
      "metadata": {
        "id": "bAcR3Qb9h8ZN"
      },
      "execution_count": null,
      "outputs": []
    },
    {
      "cell_type": "code",
      "source": [
        "# Define ICD-9 numeric code ranges and their chapter names\n",
        "icd9_chapter_ranges = [\n",
        "    ((1, 139), \"Infectious and Parasitic Diseases\"),\n",
        "    ((140, 239), \"Neoplasms\"),\n",
        "    ((240, 279), \"Endocrine, Nutritional and Metabolic Diseases, and Immunity Disorders\"),\n",
        "    ((280, 289), \"Diseases of the Blood and Blood-Forming Organs\"),\n",
        "    ((290, 319), \"Mental Disorders\"),\n",
        "    ((320, 389), \"Diseases of the Nervous System and Sense Organs\"),\n",
        "    ((390, 459), \"Diseases of the Circulatory System\"),\n",
        "    ((460, 519), \"Diseases of the Respiratory System\"),\n",
        "    ((520, 579), \"Diseases of the Digestive System\"),\n",
        "    ((580, 629), \"Diseases of the Genitourinary System\"),\n",
        "    ((630, 679), \"Complications of Pregnancy, Childbirth, and the Puerperium\"),\n",
        "    ((680, 709), \"Diseases of the Skin and Subcutaneous Tissue\"),\n",
        "    ((710, 739), \"Diseases of the Musculoskeletal System and Connective Tissue\"),\n",
        "    ((740, 759), \"Congenital Anomalies\"),\n",
        "    ((760, 779), \"Certain Conditions Originating in the Perinatal Period\"),\n",
        "    ((780, 799), \"Symptoms, Signs, and Ill-Defined Conditions\"),\n",
        "    ((800, 999), \"Injury and Poisoning\")\n",
        "]\n",
        "\n",
        "def icd9_to_chapter_index(code):\n",
        "    try:\n",
        "        code = str(code).strip()\n",
        "\n",
        "        # Handle E and V codes directly\n",
        "        if code.startswith('E'):\n",
        "            return chaptertoid[\"External Causes of Injury (E codes)\"]\n",
        "        elif code.startswith('V'):\n",
        "            return chaptertoid[\"Supplemental Classification (V codes)\"]\n",
        "\n",
        "        # Remove leading zeros, then take first 3 digits\n",
        "        code_no_leading_zeros = code.lstrip('0')\n",
        "        root_code = code_no_leading_zeros[:3]\n",
        "        numeric_code = float(root_code)\n",
        "\n",
        "        for (start, end), chapter in icd9_chapter_ranges:\n",
        "            if start <= numeric_code <= end:\n",
        "                return chaptertoid[chapter]\n",
        "    except (ValueError, TypeError):\n",
        "        pass\n",
        "\n",
        "    return None"
      ],
      "metadata": {
        "id": "m7oNJJKN8rTm"
      },
      "execution_count": null,
      "outputs": []
    },
    {
      "cell_type": "code",
      "source": [
        "merged_df['CHAPTER_INDICES'] = merged_df['DIAGNOSES'].apply(\n",
        "    lambda codes: list({icd9_to_chapter_index(code) for code in codes if icd9_to_chapter_index(code) is not None})\n",
        ")"
      ],
      "metadata": {
        "id": "apJPZTi-_l16"
      },
      "execution_count": null,
      "outputs": []
    },
    {
      "cell_type": "markdown",
      "source": [
        "### Splitting Data into Train and Validation Sets\n",
        "\n",
        "This code splits the dataset into training and validation sets using an 80/20 split. The data is shuffled before splitting, and indices are reset for convenience."
      ],
      "metadata": {
        "id": "KaQzUQHa3BqN"
      }
    },
    {
      "cell_type": "code",
      "source": [
        "from sklearn.model_selection import train_test_split\n",
        "\n",
        "# Split the DataFrame\n",
        "train_df, val_df = train_test_split(merged_df, test_size=0.2, random_state=42, shuffle=True)\n",
        "\n",
        "train_df = train_df.reset_index(drop=True)\n",
        "val_df = val_df.reset_index(drop=True)\n"
      ],
      "metadata": {
        "id": "CGTApyhGjf7R"
      },
      "execution_count": null,
      "outputs": []
    },
    {
      "cell_type": "markdown",
      "source": [
        "### Tokenizing and Saving Data in JSONL Format\n",
        "\n",
        "This code tokenizes the admission text using the Clinical-Longformer tokenizer and saves the data in JSONL format. Each line contains tokenized inputs (`input_ids` and `attention_mask`) and corresponding diagnosis labels. Separate files are created for the training and validation sets.\n"
      ],
      "metadata": {
        "id": "MLCeOd_43IA9"
      }
    },
    {
      "cell_type": "code",
      "source": [
        "from transformers import AutoTokenizer\n",
        "import json\n",
        "from tqdm import tqdm\n",
        "\n",
        "# Load tokenizer\n",
        "tokenizer = AutoTokenizer.from_pretrained(\"nlpie/distil-clinicalbert\")\n",
        "\n",
        "# Function to convert DataFrame to JSONL format\n",
        "def dataframe_to_jsonl(df, output_path, type=\"codes\"):\n",
        "    with open(output_path, 'w') as f:\n",
        "        for _, row in tqdm(df.iterrows(), total=len(df)):\n",
        "            tokens = tokenizer(\n",
        "                row[\"TEXT_ADMISSION\"],\n",
        "                padding='max_length',\n",
        "                truncation=True,\n",
        "                max_length=512,\n",
        "                return_tensors=None\n",
        "            )\n",
        "            labels = row[\"DIAGNOSES_INDICES\"] if type == \"codes\" else row[\"CHAPTER_INDICES\"]\n",
        "\n",
        "            json_obj = {\n",
        "                \"id\": int(row[\"HADM_ID\"]),\n",
        "                \"tokens\": {\n",
        "                    \"input_ids\": tokens[\"input_ids\"],\n",
        "                    \"attention_mask\": tokens[\"attention_mask\"]\n",
        "                },\n",
        "                \"labels\": labels\n",
        "            }\n",
        "            f.write(json.dumps(json_obj) + \"\\n\")"
      ],
      "metadata": {
        "id": "iVFgo8cNbxoG"
      },
      "execution_count": null,
      "outputs": []
    },
    {
      "cell_type": "code",
      "source": [
        "# Save train and val sets\n",
        "dataframe_to_jsonl(train_df, \"train.jsonl\", type=\"codes\")\n",
        "dataframe_to_jsonl(val_df, \"val.jsonl\", type=\"codes\")"
      ],
      "metadata": {
        "id": "74sSu2lEBMxW"
      },
      "execution_count": null,
      "outputs": []
    },
    {
      "cell_type": "code",
      "source": [
        "# Save train and val sets\n",
        "dataframe_to_jsonl(train_df, \"train_chapters.jsonl\", type=\"chapters\")\n",
        "dataframe_to_jsonl(val_df, \"val_chapters.jsonl\", type=\"chapters\")"
      ],
      "metadata": {
        "colab": {
          "base_uri": "https://localhost:8080/"
        },
        "id": "du1LOCotBWGI",
        "outputId": "e946eaf9-3c3a-43ff-c8b1-98f72db4634c"
      },
      "execution_count": null,
      "outputs": [
        {
          "output_type": "stream",
          "name": "stderr",
          "text": [
            "100%|██████████| 29505/29505 [01:14<00:00, 397.03it/s]\n",
            "100%|██████████| 7377/7377 [00:16<00:00, 442.28it/s]\n"
          ]
        }
      ]
    },
    {
      "cell_type": "markdown",
      "source": [
        "### Save Files for Later Use"
      ],
      "metadata": {
        "id": "Oh8wMKsu3PSe"
      }
    },
    {
      "cell_type": "code",
      "source": [
        "from google.colab import drive\n",
        "drive.mount('/content/drive')\n"
      ],
      "metadata": {
        "colab": {
          "base_uri": "https://localhost:8080/"
        },
        "id": "02xOdqn_lCjw",
        "outputId": "88a67d60-dce5-4cd8-d95a-39e5334a5442"
      },
      "execution_count": null,
      "outputs": [
        {
          "output_type": "stream",
          "name": "stdout",
          "text": [
            "Mounted at /content/drive\n"
          ]
        }
      ]
    },
    {
      "cell_type": "code",
      "source": [
        "import os\n",
        "\n",
        "# Define desired path inside Google Drive\n",
        "save_dir = \"/content/drive/MyDrive/clinical_notes_data\"\n",
        "os.makedirs(save_dir, exist_ok=True)"
      ],
      "metadata": {
        "id": "CGCRYtiylC4t"
      },
      "execution_count": null,
      "outputs": []
    },
    {
      "cell_type": "code",
      "source": [
        "# Paths to save the mapping dictionaries\n",
        "label2id_path = os.path.join(save_dir, \"label2id.json\")\n",
        "id2label_path = os.path.join(save_dir, \"id2label.json\")\n",
        "\n",
        "# Save as JSON\n",
        "with open(label2id_path, 'w') as f:\n",
        "    json.dump(label2id, f)\n",
        "\n",
        "with open(id2label_path, 'w') as f:\n",
        "    json.dump(id2label, f)\n"
      ],
      "metadata": {
        "id": "12Qv97yXlGYf"
      },
      "execution_count": null,
      "outputs": []
    },
    {
      "cell_type": "code",
      "source": [
        "# Paths to save the mapping dictionaries\n",
        "chapter2id_path = os.path.join(save_dir, \"chapter2id.json\")\n",
        "id2chapter_path = os.path.join(save_dir, \"id2chapter.json\")\n",
        "\n",
        "# Save as JSON\n",
        "with open(chapter2id_path, 'w') as f:\n",
        "    json.dump(chaptertoid, f)\n",
        "\n",
        "with open(id2chapter_path, 'w') as f:\n",
        "    json.dump(idtochapter, f)"
      ],
      "metadata": {
        "id": "knjPuBsoCBFL"
      },
      "execution_count": null,
      "outputs": []
    },
    {
      "cell_type": "code",
      "source": [
        "import shutil\n",
        "\n",
        "local_train_path = \"/content/train.jsonl\"\n",
        "local_val_path = \"/content/val.jsonl\"\n",
        "\n",
        "drive_train_path = os.path.join(save_dir, \"train.jsonl\")\n",
        "drive_val_path = os.path.join(save_dir, \"val.jsonl\")\n",
        "\n",
        "shutil.move(local_train_path, drive_train_path)\n",
        "shutil.move(local_val_path, drive_val_path)\n"
      ],
      "metadata": {
        "colab": {
          "base_uri": "https://localhost:8080/",
          "height": 36
        },
        "id": "TG0nGIDWl1Sg",
        "outputId": "5864b217-fb55-4403-c833-e3462d8b0add"
      },
      "execution_count": null,
      "outputs": [
        {
          "output_type": "execute_result",
          "data": {
            "text/plain": [
              "'/content/drive/MyDrive/clinical_notes_data/val.jsonl'"
            ],
            "application/vnd.google.colaboratory.intrinsic+json": {
              "type": "string"
            }
          },
          "metadata": {},
          "execution_count": 18
        }
      ]
    },
    {
      "cell_type": "code",
      "source": [
        "local_train_chapter_path = \"/content/train_chapters.jsonl\"\n",
        "local_val_chapter_path = \"/content/val_chapters.jsonl\"\n",
        "\n",
        "drive_train_chapter_path = os.path.join(save_dir, \"train_chapters.jsonl\")\n",
        "drive_val_chapter_path = os.path.join(save_dir, \"val_chapters.jsonl\")\n",
        "\n",
        "shutil.move(local_train_chapter_path, drive_train_chapter_path)\n",
        "shutil.move(local_val_chapter_path, drive_val_chapter_path)"
      ],
      "metadata": {
        "colab": {
          "base_uri": "https://localhost:8080/",
          "height": 36
        },
        "id": "mD5M5dJlCqxL",
        "outputId": "c1de803c-11a6-4063-b8f6-b01fa5594148"
      },
      "execution_count": null,
      "outputs": [
        {
          "output_type": "execute_result",
          "data": {
            "text/plain": [
              "'/content/drive/MyDrive/clinical_notes_data/val_chapters.jsonl'"
            ],
            "application/vnd.google.colaboratory.intrinsic+json": {
              "type": "string"
            }
          },
          "metadata": {},
          "execution_count": 18
        }
      ]
    },
    {
      "cell_type": "markdown",
      "source": [
        "### Custom PyTorch Dataset for Clinical Notes\n",
        "\n",
        "This code defines a custom `Dataset` class for loading tokenized clinical notes from a JSONL file. Each sample includes input tokens, attention masks, and multi-hot encoded diagnosis labels, making it suitable for multi-label classification tasks.\n"
      ],
      "metadata": {
        "id": "SqBJo6Oe3aLo"
      }
    },
    {
      "cell_type": "code",
      "source": [
        "import torch\n",
        "from torch.utils.data import Dataset\n",
        "import json\n",
        "\n",
        "class ClinicalNotesDataset(Dataset):\n",
        "    def __init__(self, json_path, num_labels):\n",
        "        \"\"\"\n",
        "        Args:\n",
        "            json_path (str): Path to the JSONL file.\n",
        "            num_labels (int): Total number of label classes (used for multi-hot encoding).\n",
        "        \"\"\"\n",
        "        self.samples = []\n",
        "        self.num_labels = num_labels\n",
        "\n",
        "        # Load data from JSONL file\n",
        "        with open(json_path, 'r') as f:\n",
        "            for line in f:\n",
        "                self.samples.append(json.loads(line.strip()))\n",
        "\n",
        "    def __len__(self):\n",
        "        return len(self.samples)\n",
        "\n",
        "    def __getitem__(self, idx):\n",
        "        item = self.samples[idx]\n",
        "\n",
        "        # Extract input_ids and attention_mask\n",
        "        input_ids = torch.tensor(item[\"tokens\"][\"input_ids\"], dtype=torch.long)\n",
        "        attention_mask = torch.tensor(item[\"tokens\"][\"attention_mask\"], dtype=torch.long)\n",
        "\n",
        "        # Create multi-hot encoded label vector\n",
        "        labels = torch.zeros(self.num_labels, dtype=torch.float)\n",
        "        for label_idx in item[\"labels\"]:\n",
        "            labels[label_idx] = 1.0\n",
        "\n",
        "        return {\n",
        "            \"input_ids\": input_ids,\n",
        "            \"attention_mask\": attention_mask,\n",
        "            \"labels\": labels\n",
        "        }\n"
      ],
      "metadata": {
        "id": "acSVKPkfmudk"
      },
      "execution_count": null,
      "outputs": []
    },
    {
      "cell_type": "markdown",
      "source": [
        "### Evaluation Function for Multi-Label Classification\n",
        "\n",
        "This function evaluates a trained model on a validation set using various multi-label metrics. It computes AUC, precision, recall, F1 (micro and macro), Hamming loss. Predictions are based on a sigmoid activation and a 0.5 threshold.\n"
      ],
      "metadata": {
        "id": "_yurJCUA3imU"
      }
    },
    {
      "cell_type": "code",
      "source": [
        "import torch\n",
        "import numpy as np\n",
        "from sklearn.metrics import (\n",
        "    roc_auc_score, average_precision_score,\n",
        "    precision_score, recall_score, f1_score,\n",
        "    hamming_loss, label_ranking_average_precision_score\n",
        ")\n",
        "from tqdm import tqdm\n",
        "\n",
        "def evaluate(model, dataloader, device, k=5):\n",
        "    model.eval()\n",
        "    model.to(device)\n",
        "    all_logits = []\n",
        "    all_labels = []\n",
        "\n",
        "    with torch.no_grad():\n",
        "        for batch in tqdm(dataloader, desc=\"Evaluating\"):\n",
        "            input_ids = batch[\"input_ids\"].to(device)\n",
        "            attention_mask = batch[\"attention_mask\"].to(device)\n",
        "            labels = batch[\"labels\"].to(device)\n",
        "\n",
        "            outputs = model(input_ids=input_ids, attention_mask=attention_mask)\n",
        "            logits = outputs.logits  # [batch_size, num_labels]\n",
        "\n",
        "            all_logits.append(logits.cpu())\n",
        "            all_labels.append(labels.cpu())\n",
        "\n",
        "    # Concatenate across batches\n",
        "    all_logits = torch.cat(all_logits)\n",
        "    all_labels = torch.cat(all_labels)\n",
        "\n",
        "    # Convert to numpy\n",
        "    probs = torch.sigmoid(all_logits).numpy()\n",
        "    true = all_labels.numpy()\n",
        "    preds = (probs >= 0.5).astype(int)  # Binary predictions with 0.5 threshold\n",
        "\n",
        "    # Compute metrics\n",
        "    metrics = {}\n",
        "\n",
        "    # AUC metrics\n",
        "    metrics[\"AUC_ROC_micro\"] = roc_auc_score(true, probs, average=\"micro\")\n",
        "    metrics[\"AUC_PR_micro\"] = average_precision_score(true, probs, average=\"micro\")\n",
        "\n",
        "    # Precision / Recall / F1\n",
        "    metrics[\"Precision_micro\"] = precision_score(true, preds, average=\"micro\", zero_division=0)\n",
        "    metrics[\"Recall_micro\"] = recall_score(true, preds, average=\"micro\", zero_division=0)\n",
        "    metrics[\"F1_micro\"] = f1_score(true, preds, average=\"micro\", zero_division=0)\n",
        "\n",
        "    metrics[\"Precision_macro\"] = precision_score(true, preds, average=\"macro\", zero_division=0)\n",
        "    metrics[\"Recall_macro\"] = recall_score(true, preds, average=\"macro\", zero_division=0)\n",
        "    metrics[\"F1_macro\"] = f1_score(true, preds, average=\"macro\", zero_division=0)\n",
        "\n",
        "    # Hamming Loss\n",
        "    metrics[\"Hamming_Loss\"] = hamming_loss(true, preds)\n",
        "\n",
        "    return metrics\n"
      ],
      "metadata": {
        "id": "JCsiYRNsnkIv"
      },
      "execution_count": null,
      "outputs": []
    },
    {
      "cell_type": "markdown",
      "source": [
        "### Training Loop for Multi-Label Classification\n",
        "\n",
        "This function trains the model over multiple epochs using the provided data loaders, loss function, and optimizer. After each epoch, it prints the average training loss and evaluates the model on the validation set using the `evaluate` function.\n"
      ],
      "metadata": {
        "id": "P2at4VS23xnR"
      }
    },
    {
      "cell_type": "code",
      "source": [
        "import os\n",
        "import torch\n",
        "\n",
        "def train_model(model, device, train_loader, val_loader, loss_fn, optimizer, num_epochs, save_dir=\"checkpoints\"):\n",
        "    model.to(device)\n",
        "\n",
        "    # Create directory if it doesn't exist\n",
        "    os.makedirs(save_dir, exist_ok=True)\n",
        "\n",
        "    for epoch in range(1, num_epochs + 1):\n",
        "        model.train()\n",
        "        total_loss = 0.0\n",
        "\n",
        "        for batch in tqdm(train_loader, desc=f\"Training Epoch {epoch}\"):\n",
        "            input_ids = batch[\"input_ids\"].to(device)\n",
        "            attention_mask = batch[\"attention_mask\"].to(device)\n",
        "            labels = batch[\"labels\"].to(device)\n",
        "\n",
        "            outputs = model(input_ids=input_ids, attention_mask=attention_mask)\n",
        "            logits = outputs.logits\n",
        "\n",
        "            loss = loss_fn(logits, labels)\n",
        "            loss.backward()\n",
        "\n",
        "            optimizer.step()\n",
        "            optimizer.zero_grad()\n",
        "\n",
        "            total_loss += loss.item()\n",
        "\n",
        "        avg_loss = total_loss / len(train_loader)\n",
        "        print(f\"\\nEpoch {epoch}/{num_epochs} - Training Loss: {avg_loss:.4f}\")\n",
        "\n",
        "        # Evaluate model\n",
        "        val_metrics = evaluate(model, val_loader, device)\n",
        "        print(\"Validation Metrics:\")\n",
        "        for key, value in val_metrics.items():\n",
        "            print(f\"{key}: {value:.4f}\")\n",
        "\n",
        "        # Save model at end of epoch\n",
        "        checkpoint_path = os.path.join(save_dir, f\"model_epoch_{epoch}.pt\")\n",
        "        torch.save(model.state_dict(), checkpoint_path)\n",
        "        print(f\"Model saved to {checkpoint_path}\")\n",
        "\n",
        "    return model\n"
      ],
      "metadata": {
        "id": "HYNGWuLTvNwR"
      },
      "execution_count": null,
      "outputs": []
    },
    {
      "cell_type": "code",
      "source": [
        "import os\n",
        "import json\n",
        "\n",
        "data_dir = \"/content/drive/MyDrive/clinical_notes_data\"\n",
        "\n",
        "with open(os.path.join(data_dir, \"label2id.json\"), 'r') as f:\n",
        "    label2id = json.load(f)\n",
        "\n",
        "with open(os.path.join(data_dir, \"id2label.json\"), 'r') as f:\n",
        "    id2label = json.load(f)\n",
        "\n",
        "with open(os.path.join(data_dir, \"chapter2id.json\"), 'r') as f:\n",
        "    chapter2id = json.load(f)\n",
        "\n",
        "with open(os.path.join(data_dir, \"id2chapter.json\"), 'r') as f:\n",
        "    id2chapter = json.load(f)\n",
        "\n",
        "num_labels_codes = len(label2id)\n",
        "num_labels_chapters = len(chapter2id)\n"
      ],
      "metadata": {
        "id": "myI2OD8j1Ezp"
      },
      "execution_count": null,
      "outputs": []
    },
    {
      "cell_type": "code",
      "source": [
        "train_path_codes = \"/content/drive/MyDrive/clinical_notes_data/train.jsonl\"\n",
        "val_path_codes = \"/content/drive/MyDrive/clinical_notes_data/val.jsonl\"\n",
        "train_path_chapters = \"/content/drive/MyDrive/clinical_notes_data/train_chapters.jsonl\"\n",
        "val_path_chapters = \"/content/drive/MyDrive/clinical_notes_data/val_chapters.jsonl\""
      ],
      "metadata": {
        "id": "NQhAgW-aJCKd"
      },
      "execution_count": null,
      "outputs": []
    },
    {
      "cell_type": "code",
      "source": [
        "train_dataset_codes = ClinicalNotesDataset(train_path_codes, num_labels_codes)\n",
        "val_dataset_codes = ClinicalNotesDataset(val_path_codes, num_labels_codes)"
      ],
      "metadata": {
        "id": "4Tp-66AtFX9o"
      },
      "execution_count": null,
      "outputs": []
    },
    {
      "cell_type": "code",
      "source": [
        "train_dataset_chapters = ClinicalNotesDataset(train_path_chapters, num_labels_chapters)\n",
        "val_dataset_chapters = ClinicalNotesDataset(val_path_chapters, num_labels_chapters)"
      ],
      "metadata": {
        "id": "TYEgj-wiFfjQ"
      },
      "execution_count": null,
      "outputs": []
    },
    {
      "cell_type": "code",
      "source": [
        "from transformers import AutoModelForSequenceClassification\n",
        "\n",
        "model_codes = AutoModelForSequenceClassification.from_pretrained(\n",
        "    \"nlpie/distil-clinicalbert\",\n",
        "    num_labels=num_labels_codes,\n",
        "    problem_type=\"multi_label_classification\"\n",
        ")"
      ],
      "metadata": {
        "colab": {
          "base_uri": "https://localhost:8080/",
          "height": 240,
          "referenced_widgets": [
            "5af1bc5002db46479675cf3f12758475",
            "1ef7e61bdcea4f7cbd57484b3e296116",
            "812a3eb65bb4440eb61f92731517fe58",
            "269e5ebd632346b5a87484f6a0fdd845",
            "91dd9defa6104a468491087b85d01de1",
            "a7d654a0b0234746a6eb05c6c1d1d920",
            "8dce3e0c39ea47019cdb799f5dc6582b",
            "fb061016b8f84fefbccc91468bc7acdb",
            "849887cba455491784d71711974526a8",
            "d647a003b39948719e5f57dec34f1d73",
            "12bf0006fabe4108ba879b7275949bab",
            "3edd1b55804f47c89fa513c42eb46f1c",
            "ee00288ce2b347f8bc5e8241028d7d98",
            "85dc57bc290e42da9cdd3e0dab72190e",
            "9bb45835f97b4435b4579a014e32e795",
            "cc76a0fbe2cb434c9ac8b0fe8e61b0da",
            "cae89903797a4d9ea0d80499d89685ef",
            "f165852705174fa8a9fed76c86451c7a",
            "c1558649c0ad44238ec446a190501c2e",
            "0a7f73661783480b87ef62790b7480ce",
            "3d0ef0d997b5412098f6449192969f5e",
            "d340072af0de4df49477f83b3c16885d"
          ]
        },
        "id": "SiSyO8XBrqow",
        "outputId": "98b337d6-28a8-43a6-c1a3-7cd595f51487"
      },
      "execution_count": null,
      "outputs": [
        {
          "output_type": "stream",
          "name": "stderr",
          "text": [
            "/usr/local/lib/python3.11/dist-packages/huggingface_hub/utils/_auth.py:94: UserWarning: \n",
            "The secret `HF_TOKEN` does not exist in your Colab secrets.\n",
            "To authenticate with the Hugging Face Hub, create a token in your settings tab (https://huggingface.co/settings/tokens), set it as secret in your Google Colab and restart your session.\n",
            "You will be able to reuse this secret in all of your notebooks.\n",
            "Please note that authentication is recommended but still optional to access public models or datasets.\n",
            "  warnings.warn(\n"
          ]
        },
        {
          "output_type": "display_data",
          "data": {
            "text/plain": [
              "config.json:   0%|          | 0.00/795 [00:00<?, ?B/s]"
            ],
            "application/vnd.jupyter.widget-view+json": {
              "version_major": 2,
              "version_minor": 0,
              "model_id": "5af1bc5002db46479675cf3f12758475"
            }
          },
          "metadata": {}
        },
        {
          "output_type": "display_data",
          "data": {
            "text/plain": [
              "pytorch_model.bin:   0%|          | 0.00/263M [00:00<?, ?B/s]"
            ],
            "application/vnd.jupyter.widget-view+json": {
              "version_major": 2,
              "version_minor": 0,
              "model_id": "3edd1b55804f47c89fa513c42eb46f1c"
            }
          },
          "metadata": {}
        },
        {
          "output_type": "stream",
          "name": "stderr",
          "text": [
            "Some weights of BertForSequenceClassification were not initialized from the model checkpoint at nlpie/distil-clinicalbert and are newly initialized: ['bert.pooler.dense.bias', 'bert.pooler.dense.weight', 'classifier.bias', 'classifier.weight']\n",
            "You should probably TRAIN this model on a down-stream task to be able to use it for predictions and inference.\n"
          ]
        }
      ]
    },
    {
      "cell_type": "code",
      "source": [
        "from transformers import AutoModelForSequenceClassification\n",
        "\n",
        "model_chapters = AutoModelForSequenceClassification.from_pretrained(\n",
        "    \"nlpie/distil-clinicalbert\",\n",
        "    num_labels=num_labels_chapters,\n",
        "    problem_type=\"multi_label_classification\"\n",
        ")"
      ],
      "metadata": {
        "id": "2xC6XctJGR4v",
        "colab": {
          "base_uri": "https://localhost:8080/",
          "height": 240,
          "referenced_widgets": [
            "8c8e046287e7456cbe7003340bfd744b",
            "03b01b82407749ffb7384d058b7650a3",
            "96b8a301c8d84093ae7bb029a45ba9e0",
            "c162136fcd564bc0accc2bc8bb7ea46a",
            "1b4948fbb2b54e29be46450830bd3f77",
            "9925bd22b7b5448ea245446ba563d96c",
            "ab9637bef2ee4bd3ac13dc955945f253",
            "61a06f010fc14ab2ab2721fc05b2d8a8",
            "c3aca07759324112a205113e1fee4eb8",
            "dce09d84debf4f7f972abfdc31086f60",
            "da08356383c34555bf1978263ad74a39",
            "0bf534ab66974d1ba8ed9590c8dedbb3",
            "4e43116242b34966b206a26179d0dcc1",
            "99aa8ed1023f4d67a1933b8cc8329c8f",
            "40a23c87c7e146bc8f4e90cfb8cc3397",
            "08bce38d4a51455d88ab57a8931203b1",
            "5f008b71601b43fd99bb1c6980ffc19c",
            "6e822164b36f4ceca82b2c16cffa0b77",
            "703e68b858c14b34b8659a752d9eef12",
            "af0401137bc04a558175fb6a5cfc20a1",
            "3862b44edf314d99bbdd460b7f0152df",
            "4d9ce56308ab4e0a9389b27da7f52078"
          ]
        },
        "outputId": "1f9a4ba3-ec47-44f0-a8f5-2fcc7869ecbc"
      },
      "execution_count": null,
      "outputs": [
        {
          "output_type": "stream",
          "name": "stderr",
          "text": [
            "/usr/local/lib/python3.11/dist-packages/huggingface_hub/utils/_auth.py:94: UserWarning: \n",
            "The secret `HF_TOKEN` does not exist in your Colab secrets.\n",
            "To authenticate with the Hugging Face Hub, create a token in your settings tab (https://huggingface.co/settings/tokens), set it as secret in your Google Colab and restart your session.\n",
            "You will be able to reuse this secret in all of your notebooks.\n",
            "Please note that authentication is recommended but still optional to access public models or datasets.\n",
            "  warnings.warn(\n"
          ]
        },
        {
          "output_type": "display_data",
          "data": {
            "text/plain": [
              "config.json:   0%|          | 0.00/795 [00:00<?, ?B/s]"
            ],
            "application/vnd.jupyter.widget-view+json": {
              "version_major": 2,
              "version_minor": 0,
              "model_id": "8c8e046287e7456cbe7003340bfd744b"
            }
          },
          "metadata": {}
        },
        {
          "output_type": "display_data",
          "data": {
            "text/plain": [
              "pytorch_model.bin:   0%|          | 0.00/263M [00:00<?, ?B/s]"
            ],
            "application/vnd.jupyter.widget-view+json": {
              "version_major": 2,
              "version_minor": 0,
              "model_id": "0bf534ab66974d1ba8ed9590c8dedbb3"
            }
          },
          "metadata": {}
        },
        {
          "output_type": "stream",
          "name": "stderr",
          "text": [
            "Some weights of BertForSequenceClassification were not initialized from the model checkpoint at nlpie/distil-clinicalbert and are newly initialized: ['bert.pooler.dense.bias', 'bert.pooler.dense.weight', 'classifier.bias', 'classifier.weight']\n",
            "You should probably TRAIN this model on a down-stream task to be able to use it for predictions and inference.\n"
          ]
        }
      ]
    },
    {
      "cell_type": "code",
      "source": [
        "from torch.utils.data import DataLoader\n",
        "\n",
        "device = torch.device(\"cuda\" if torch.cuda.is_available() else \"cpu\")\n",
        "batch_size = 256\n",
        "num_workers = 2"
      ],
      "metadata": {
        "id": "D39DUWFGRgx7"
      },
      "execution_count": null,
      "outputs": []
    },
    {
      "cell_type": "code",
      "source": [
        "# Create DataLoaders\n",
        "train_loader_codes = DataLoader(\n",
        "    train_dataset_codes,\n",
        "    batch_size=batch_size,\n",
        "    shuffle=True,\n",
        "    num_workers=num_workers\n",
        ")\n",
        "\n",
        "val_loader_codes = DataLoader(\n",
        "    val_dataset_codes,\n",
        "    batch_size=batch_size,\n",
        "    shuffle=False,\n",
        "    num_workers=num_workers\n",
        ")"
      ],
      "metadata": {
        "id": "mHxoyfkAGe7c"
      },
      "execution_count": null,
      "outputs": []
    },
    {
      "cell_type": "code",
      "source": [
        "train_loader_chapters = DataLoader(\n",
        "    train_dataset_chapters,\n",
        "    batch_size=batch_size,\n",
        "    shuffle=True,\n",
        "    num_workers=num_workers\n",
        ")\n",
        "\n",
        "val_loader_chapters = DataLoader(\n",
        "    val_dataset_chapters,\n",
        "    batch_size=batch_size,\n",
        "    shuffle=False,\n",
        "    num_workers=num_workers\n",
        ")"
      ],
      "metadata": {
        "id": "yRx7M2wVGha7"
      },
      "execution_count": null,
      "outputs": []
    },
    {
      "cell_type": "code",
      "source": [
        "# Evaluate using full evaluation function\n",
        "initial_metrics_codes = evaluate(model_codes, val_loader_codes, device)\n",
        "\n",
        "# Print the results\n",
        "print(\"Evaluation BEFORE training:\")\n",
        "for key, value in initial_metrics_codes.items():\n",
        "    print(f\"{key}: {value:.4f}\")\n"
      ],
      "metadata": {
        "colab": {
          "base_uri": "https://localhost:8080/"
        },
        "id": "uEIQtmNQPZMS",
        "outputId": "58c4b3bd-3e8e-4f52-b10d-004e293ce135"
      },
      "execution_count": null,
      "outputs": [
        {
          "output_type": "stream",
          "name": "stderr",
          "text": [
            "Evaluating: 100%|██████████| 58/58 [00:21<00:00,  2.74it/s]\n"
          ]
        },
        {
          "output_type": "stream",
          "name": "stdout",
          "text": [
            "Evaluation BEFORE training:\n",
            "AUC_ROC_micro: 0.5035\n",
            "AUC_PR_micro: 0.0017\n",
            "Precision_micro: 0.0018\n",
            "Recall_micro: 0.5067\n",
            "F1_micro: 0.0035\n",
            "Precision_macro: 0.0014\n",
            "Recall_macro: 0.2840\n",
            "F1_macro: 0.0024\n",
            "Hamming_Loss: 0.4938\n"
          ]
        }
      ]
    },
    {
      "cell_type": "code",
      "source": [
        "initial_metrics_chapters = evaluate(model_chapters, val_loader_chapters, device)\n",
        "\n",
        "print(\"Evaluation BEFORE training:\")\n",
        "for key, value in initial_metrics_chapters.items():\n",
        "    print(f\"{key}: {value:.4f}\")"
      ],
      "metadata": {
        "id": "gB89HCwFGyQ4",
        "colab": {
          "base_uri": "https://localhost:8080/"
        },
        "outputId": "24ab350a-1794-4724-ffcb-6a9b0c436711"
      },
      "execution_count": null,
      "outputs": [
        {
          "output_type": "stream",
          "name": "stderr",
          "text": [
            "Evaluating: 100%|██████████| 29/29 [00:20<00:00,  1.41it/s]"
          ]
        },
        {
          "output_type": "stream",
          "name": "stdout",
          "text": [
            "Evaluation BEFORE training:\n",
            "AUC_ROC_micro: 0.4741\n",
            "AUC_PR_micro: 0.3059\n",
            "Precision_micro: 0.3315\n",
            "Recall_micro: 0.4268\n",
            "F1_micro: 0.3731\n",
            "Precision_macro: 0.2794\n",
            "Recall_macro: 0.4323\n",
            "F1_macro: 0.2325\n",
            "Hamming_Loss: 0.4759\n"
          ]
        },
        {
          "output_type": "stream",
          "name": "stderr",
          "text": [
            "\n"
          ]
        }
      ]
    },
    {
      "cell_type": "code",
      "source": [
        "from peft import get_peft_model, LoraConfig, TaskType\n",
        "\n",
        "lora_config = LoraConfig(\n",
        "    task_type=TaskType.SEQ_CLS,\n",
        "    r=8,\n",
        "    lora_alpha=16,\n",
        "    lora_dropout=0.1,\n",
        "    bias=\"none\",\n",
        "    target_modules=[\"query\", \"value\"]  # Standard names in BERT-like models\n",
        ")"
      ],
      "metadata": {
        "id": "9qT62rfPP8mR"
      },
      "execution_count": null,
      "outputs": []
    },
    {
      "cell_type": "code",
      "source": [
        "model_codes = get_peft_model(model_codes, lora_config)\n",
        "model_codes.print_trainable_parameters()"
      ],
      "metadata": {
        "id": "2hdQaqXwHGlZ"
      },
      "execution_count": null,
      "outputs": []
    },
    {
      "cell_type": "code",
      "source": [
        "model_chapters = get_peft_model(model_chapters, lora_config)\n",
        "model_chapters.print_trainable_parameters()"
      ],
      "metadata": {
        "id": "dqtZbATFHJkg",
        "colab": {
          "base_uri": "https://localhost:8080/"
        },
        "outputId": "6d8ccbfc-0caf-4544-da5c-b82343f914e7"
      },
      "execution_count": null,
      "outputs": [
        {
          "output_type": "stream",
          "name": "stdout",
          "text": [
            "trainable params: 162,067 || all params: 65,959,718 || trainable%: 0.2457\n"
          ]
        }
      ]
    },
    {
      "cell_type": "code",
      "source": [
        "from torch.nn import BCEWithLogitsLoss\n",
        "from torch.optim import AdamW\n",
        "\n",
        "num_epochs_codes = 5\n",
        "\n",
        "# Initialize count array\n",
        "label_counts_codes = np.zeros(num_labels_codes)\n",
        "\n",
        "# Loop through file and count labels\n",
        "with open(train_path_codes, 'r') as f:\n",
        "    for line in f:\n",
        "        data = json.loads(line.strip())\n",
        "        for label_idx in data[\"labels\"]:\n",
        "            label_counts_codes[label_idx] += 1\n",
        "\n",
        "# Avoid division by zero (clip label counts to minimum of 1)\n",
        "label_counts_codes = np.clip(label_counts_codes, 1, None)\n",
        "\n",
        "# Compute positive weight per class: (negatives / positives)\n",
        "pos_weight_codes = (len(train_dataset_codes) - label_counts_codes) / label_counts_codes\n",
        "\n",
        "# Convert to torch tensor\n",
        "pos_weight_codes = torch.tensor(pos_weight_codes, dtype=torch.float)\n",
        "\n",
        "# Create the loss function with pos_weight\n",
        "loss_fn_codes = BCEWithLogitsLoss(pos_weight=pos_weight_codes.to(device))\n",
        "optimizer_codes = AdamW(model_codes.parameters(), lr=2e-5)\n"
      ],
      "metadata": {
        "id": "lbgYem5nrTvn"
      },
      "execution_count": null,
      "outputs": []
    },
    {
      "cell_type": "code",
      "source": [
        "from torch.nn import BCEWithLogitsLoss\n",
        "from torch.optim import AdamW\n",
        "\n",
        "num_epochs_chapters = 5\n",
        "\n",
        "# Initialize count array\n",
        "label_counts_chapters = np.zeros(num_labels_chapters)\n",
        "\n",
        "with open(train_path_chapters, 'r') as f:\n",
        "    for line in f:\n",
        "        data = json.loads(line.strip())\n",
        "        for label_idx in data[\"labels\"]:\n",
        "            label_counts_chapters[label_idx] += 1\n",
        "\n",
        "label_counts_chapters = np.clip(label_counts_chapters, 1, None)\n",
        "\n",
        "pos_weight_chapters = (len(train_dataset_chapters) - label_counts_chapters) / label_counts_chapters\n",
        "\n",
        "pos_weight_chapters = torch.tensor(pos_weight_chapters, dtype=torch.float)\n",
        "\n",
        "loss_fn_chapters = BCEWithLogitsLoss(pos_weight=pos_weight_chapters.to(device))\n",
        "optimizer_chapters = AdamW(model_chapters.parameters(), lr=2e-5)"
      ],
      "metadata": {
        "id": "x8c4OCGzIIcV"
      },
      "execution_count": null,
      "outputs": []
    },
    {
      "cell_type": "code",
      "source": [
        "print(label_counts_chapters)\n",
        "print(len(label_counts_chapters))"
      ],
      "metadata": {
        "colab": {
          "base_uri": "https://localhost:8080/"
        },
        "id": "7iaFroauLyZo",
        "outputId": "8aff8864-8ee7-4c5d-aa56-ea1b063b38dc"
      },
      "execution_count": null,
      "outputs": [
        {
          "output_type": "stream",
          "name": "stdout",
          "text": [
            "[ 1623.  5167. 20415. 10905.  9570. 11334. 24838. 14392. 11816. 12058.\n",
            "   109.  4327.  5758.  1069.    69. 11492. 13592.  9892. 15024.]\n",
            "19\n"
          ]
        }
      ]
    },
    {
      "cell_type": "code",
      "source": [
        "trained_model_codes = train_model(\n",
        "    model=model_codes,\n",
        "    device=device,\n",
        "    train_loader=train_loader_codes,\n",
        "    val_loader=val_loader_codes,\n",
        "    loss_fn=loss_fn_codes,\n",
        "    optimizer=optimizer_codes,\n",
        "    num_epochs=num_epochs_codes,\n",
        "    save_dir=\"/content/drive/MyDrive/clinical_notes_checkpoints\"\n",
        ")"
      ],
      "metadata": {
        "colab": {
          "base_uri": "https://localhost:8080/"
        },
        "id": "Mbx_XbZRQDw7",
        "outputId": "84829109-639b-498e-e799-e59af57dd83c"
      },
      "execution_count": null,
      "outputs": [
        {
          "output_type": "stream",
          "name": "stderr",
          "text": [
            "Training Epoch 1: 100%|██████████| 116/116 [03:03<00:00,  1.59s/it]\n"
          ]
        },
        {
          "output_type": "stream",
          "name": "stdout",
          "text": [
            "\n",
            "Epoch 1/5 - Training Loss: 1.2494\n"
          ]
        },
        {
          "output_type": "stream",
          "name": "stderr",
          "text": [
            "Evaluating: 100%|██████████| 29/29 [00:21<00:00,  1.36it/s]\n"
          ]
        },
        {
          "output_type": "stream",
          "name": "stdout",
          "text": [
            "Validation Metrics:\n",
            "AUC_ROC_micro: 0.8054\n",
            "AUC_PR_micro: 0.0045\n",
            "Precision_micro: 0.0052\n",
            "Recall_micro: 0.5439\n",
            "F1_micro: 0.0102\n",
            "Precision_macro: 0.0025\n",
            "Recall_macro: 0.1808\n",
            "F1_macro: 0.0042\n",
            "Hamming_Loss: 0.1807\n",
            "Model saved to /content/drive/MyDrive/clinical_notes_checkpoints/model_epoch_1.pt\n"
          ]
        },
        {
          "output_type": "stream",
          "name": "stderr",
          "text": [
            "Training Epoch 2: 100%|██████████| 116/116 [03:03<00:00,  1.59s/it]\n"
          ]
        },
        {
          "output_type": "stream",
          "name": "stdout",
          "text": [
            "\n",
            "Epoch 2/5 - Training Loss: 1.2395\n"
          ]
        },
        {
          "output_type": "stream",
          "name": "stderr",
          "text": [
            "Evaluating: 100%|██████████| 29/29 [00:21<00:00,  1.36it/s]\n"
          ]
        },
        {
          "output_type": "stream",
          "name": "stdout",
          "text": [
            "Validation Metrics:\n",
            "AUC_ROC_micro: 0.8136\n",
            "AUC_PR_micro: 0.0053\n",
            "Precision_micro: 0.0054\n",
            "Recall_micro: 0.5712\n",
            "F1_micro: 0.0108\n",
            "Precision_macro: 0.0025\n",
            "Recall_macro: 0.1925\n",
            "F1_macro: 0.0044\n",
            "Hamming_Loss: 0.1799\n",
            "Model saved to /content/drive/MyDrive/clinical_notes_checkpoints/model_epoch_2.pt\n"
          ]
        },
        {
          "output_type": "stream",
          "name": "stderr",
          "text": [
            "Training Epoch 3: 100%|██████████| 116/116 [03:03<00:00,  1.59s/it]\n"
          ]
        },
        {
          "output_type": "stream",
          "name": "stdout",
          "text": [
            "\n",
            "Epoch 3/5 - Training Loss: 1.2230\n"
          ]
        },
        {
          "output_type": "stream",
          "name": "stderr",
          "text": [
            "Evaluating: 100%|██████████| 29/29 [00:21<00:00,  1.36it/s]\n"
          ]
        },
        {
          "output_type": "stream",
          "name": "stdout",
          "text": [
            "Validation Metrics:\n",
            "AUC_ROC_micro: 0.8223\n",
            "AUC_PR_micro: 0.0085\n",
            "Precision_micro: 0.0057\n",
            "Recall_micro: 0.6265\n",
            "F1_micro: 0.0112\n",
            "Precision_macro: 0.0026\n",
            "Recall_macro: 0.2146\n",
            "F1_macro: 0.0046\n",
            "Hamming_Loss: 0.1890\n",
            "Model saved to /content/drive/MyDrive/clinical_notes_checkpoints/model_epoch_3.pt\n"
          ]
        },
        {
          "output_type": "stream",
          "name": "stderr",
          "text": [
            "Training Epoch 4: 100%|██████████| 116/116 [03:03<00:00,  1.59s/it]\n"
          ]
        },
        {
          "output_type": "stream",
          "name": "stdout",
          "text": [
            "\n",
            "Epoch 4/5 - Training Loss: 1.2094\n"
          ]
        },
        {
          "output_type": "stream",
          "name": "stderr",
          "text": [
            "Evaluating: 100%|██████████| 29/29 [00:21<00:00,  1.36it/s]\n"
          ]
        },
        {
          "output_type": "stream",
          "name": "stdout",
          "text": [
            "Validation Metrics:\n",
            "AUC_ROC_micro: 0.8329\n",
            "AUC_PR_micro: 0.0162\n",
            "Precision_micro: 0.0058\n",
            "Recall_micro: 0.6830\n",
            "F1_micro: 0.0116\n",
            "Precision_macro: 0.0026\n",
            "Recall_macro: 0.2436\n",
            "F1_macro: 0.0047\n",
            "Hamming_Loss: 0.2001\n",
            "Model saved to /content/drive/MyDrive/clinical_notes_checkpoints/model_epoch_4.pt\n"
          ]
        },
        {
          "output_type": "stream",
          "name": "stderr",
          "text": [
            "Training Epoch 5: 100%|██████████| 116/116 [03:03<00:00,  1.58s/it]\n"
          ]
        },
        {
          "output_type": "stream",
          "name": "stdout",
          "text": [
            "\n",
            "Epoch 5/5 - Training Loss: 1.1946\n"
          ]
        },
        {
          "output_type": "stream",
          "name": "stderr",
          "text": [
            "Evaluating: 100%|██████████| 29/29 [00:21<00:00,  1.36it/s]\n"
          ]
        },
        {
          "output_type": "stream",
          "name": "stdout",
          "text": [
            "Validation Metrics:\n",
            "AUC_ROC_micro: 0.8395\n",
            "AUC_PR_micro: 0.0238\n",
            "Precision_micro: 0.0059\n",
            "Recall_micro: 0.7173\n",
            "F1_micro: 0.0117\n",
            "Precision_macro: 0.0027\n",
            "Recall_macro: 0.2677\n",
            "F1_macro: 0.0049\n",
            "Hamming_Loss: 0.2077\n",
            "Model saved to /content/drive/MyDrive/clinical_notes_checkpoints/model_epoch_5.pt\n"
          ]
        }
      ]
    },
    {
      "cell_type": "code",
      "source": [
        "trained_model_chapters = train_model(\n",
        "    model=model_chapters,\n",
        "    device=device,\n",
        "    train_loader=train_loader_chapters,\n",
        "    val_loader=val_loader_chapters,\n",
        "    loss_fn=loss_fn_chapters,\n",
        "    optimizer=optimizer_chapters,\n",
        "    num_epochs=num_epochs_chapters,\n",
        "    save_dir=\"/content/drive/MyDrive/clinical_notes_checkpoints_chapters\"\n",
        ")\n"
      ],
      "metadata": {
        "id": "o3Vjsv9-aOs9",
        "colab": {
          "base_uri": "https://localhost:8080/"
        },
        "outputId": "d7685b0f-656a-4aaa-8360-f4108fb2becd"
      },
      "execution_count": null,
      "outputs": [
        {
          "output_type": "stream",
          "name": "stderr",
          "text": [
            "Training Epoch 1: 100%|██████████| 116/116 [03:03<00:00,  1.59s/it]\n"
          ]
        },
        {
          "output_type": "stream",
          "name": "stdout",
          "text": [
            "\n",
            "Epoch 1/5 - Training Loss: 0.9312\n"
          ]
        },
        {
          "output_type": "stream",
          "name": "stderr",
          "text": [
            "Evaluating: 100%|██████████| 29/29 [00:20<00:00,  1.39it/s]\n"
          ]
        },
        {
          "output_type": "stream",
          "name": "stdout",
          "text": [
            "Validation Metrics:\n",
            "AUC_ROC_micro: 0.5576\n",
            "AUC_PR_micro: 0.3512\n",
            "Precision_micro: 0.3757\n",
            "Recall_micro: 0.5253\n",
            "F1_micro: 0.4381\n",
            "Precision_macro: 0.3821\n",
            "Recall_macro: 0.5166\n",
            "F1_macro: 0.3717\n",
            "Hamming_Loss: 0.4472\n",
            "Model saved to /content/drive/MyDrive/clinical_notes_checkpoints_chapters/model_epoch_1.pt\n"
          ]
        },
        {
          "output_type": "stream",
          "name": "stderr",
          "text": [
            "Training Epoch 2: 100%|██████████| 116/116 [03:03<00:00,  1.58s/it]\n"
          ]
        },
        {
          "output_type": "stream",
          "name": "stdout",
          "text": [
            "\n",
            "Epoch 2/5 - Training Loss: 0.9261\n"
          ]
        },
        {
          "output_type": "stream",
          "name": "stderr",
          "text": [
            "Evaluating: 100%|██████████| 29/29 [00:20<00:00,  1.39it/s]\n"
          ]
        },
        {
          "output_type": "stream",
          "name": "stdout",
          "text": [
            "Validation Metrics:\n",
            "AUC_ROC_micro: 0.6496\n",
            "AUC_PR_micro: 0.4769\n",
            "Precision_micro: 0.4262\n",
            "Recall_micro: 0.6234\n",
            "F1_micro: 0.5063\n",
            "Precision_macro: 0.3937\n",
            "Recall_macro: 0.5980\n",
            "F1_macro: 0.4248\n",
            "Hamming_Loss: 0.4035\n",
            "Model saved to /content/drive/MyDrive/clinical_notes_checkpoints_chapters/model_epoch_2.pt\n"
          ]
        },
        {
          "output_type": "stream",
          "name": "stderr",
          "text": [
            "Training Epoch 3: 100%|██████████| 116/116 [03:03<00:00,  1.58s/it]\n"
          ]
        },
        {
          "output_type": "stream",
          "name": "stdout",
          "text": [
            "\n",
            "Epoch 3/5 - Training Loss: 0.9174\n"
          ]
        },
        {
          "output_type": "stream",
          "name": "stderr",
          "text": [
            "Evaluating: 100%|██████████| 29/29 [00:20<00:00,  1.39it/s]\n"
          ]
        },
        {
          "output_type": "stream",
          "name": "stdout",
          "text": [
            "Validation Metrics:\n",
            "AUC_ROC_micro: 0.6942\n",
            "AUC_PR_micro: 0.5468\n",
            "Precision_micro: 0.4554\n",
            "Recall_micro: 0.6835\n",
            "F1_micro: 0.5466\n",
            "Precision_macro: 0.3986\n",
            "Recall_macro: 0.6507\n",
            "F1_macro: 0.4477\n",
            "Hamming_Loss: 0.3763\n",
            "Model saved to /content/drive/MyDrive/clinical_notes_checkpoints_chapters/model_epoch_3.pt\n"
          ]
        },
        {
          "output_type": "stream",
          "name": "stderr",
          "text": [
            "Training Epoch 4: 100%|██████████| 116/116 [03:03<00:00,  1.58s/it]\n"
          ]
        },
        {
          "output_type": "stream",
          "name": "stdout",
          "text": [
            "\n",
            "Epoch 4/5 - Training Loss: 0.9034\n"
          ]
        },
        {
          "output_type": "stream",
          "name": "stderr",
          "text": [
            "Evaluating: 100%|██████████| 29/29 [00:20<00:00,  1.39it/s]\n"
          ]
        },
        {
          "output_type": "stream",
          "name": "stdout",
          "text": [
            "Validation Metrics:\n",
            "AUC_ROC_micro: 0.6987\n",
            "AUC_PR_micro: 0.5705\n",
            "Precision_micro: 0.4468\n",
            "Recall_micro: 0.6961\n",
            "F1_micro: 0.5443\n",
            "Precision_macro: 0.4004\n",
            "Recall_macro: 0.7030\n",
            "F1_macro: 0.4551\n",
            "Hamming_Loss: 0.3868\n",
            "Model saved to /content/drive/MyDrive/clinical_notes_checkpoints_chapters/model_epoch_4.pt\n"
          ]
        },
        {
          "output_type": "stream",
          "name": "stderr",
          "text": [
            "Training Epoch 5: 100%|██████████| 116/116 [03:03<00:00,  1.58s/it]\n"
          ]
        },
        {
          "output_type": "stream",
          "name": "stdout",
          "text": [
            "\n",
            "Epoch 5/5 - Training Loss: 0.8805\n"
          ]
        },
        {
          "output_type": "stream",
          "name": "stderr",
          "text": [
            "Evaluating: 100%|██████████| 29/29 [00:20<00:00,  1.39it/s]\n"
          ]
        },
        {
          "output_type": "stream",
          "name": "stdout",
          "text": [
            "Validation Metrics:\n",
            "AUC_ROC_micro: 0.7087\n",
            "AUC_PR_micro: 0.5826\n",
            "Precision_micro: 0.4619\n",
            "Recall_micro: 0.6981\n",
            "F1_micro: 0.5560\n",
            "Precision_macro: 0.4091\n",
            "Recall_macro: 0.7040\n",
            "F1_macro: 0.4638\n",
            "Hamming_Loss: 0.3701\n",
            "Model saved to /content/drive/MyDrive/clinical_notes_checkpoints_chapters/model_epoch_5.pt\n"
          ]
        }
      ]
    }
  ]
}